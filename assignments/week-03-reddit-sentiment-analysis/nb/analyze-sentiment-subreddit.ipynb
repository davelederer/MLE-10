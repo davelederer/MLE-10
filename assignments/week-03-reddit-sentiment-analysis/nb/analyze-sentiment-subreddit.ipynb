{
 "cells": [
  {
   "cell_type": "markdown",
   "metadata": {},
   "source": [
    "<p align = \"center\" draggable=”false” ><img src=\"https://user-images.githubusercontent.com/37101144/161836199-fdb0219d-0361-4988-bf26-48b0fad160a3.png\" \n",
    "     width=\"200px\"\n",
    "     height=\"auto\"/>\n",
    "</p>"
   ]
  },
  {
   "cell_type": "markdown",
   "metadata": {},
   "source": [
    "# <h1 align=\"center\" id=\"heading\">Sentiment Analysis of Reddit Data using Reddit API</h1>"
   ]
  },
  {
   "cell_type": "markdown",
   "metadata": {},
   "source": [
    "In this live coding session, we leverage the Python Reddit API Wrapper (`PRAW`) to retrieve data from subreddits on [Reddit](https://www.reddit.com), and perform sentiment analysis using [`pipelines`](https://huggingface.co/docs/transformers/main_classes/pipelines) from [HuggingFace ( 🤗 the GitHub of Machine Learning )](https://techcrunch.com/2022/05/09/hugging-face-reaches-2-billion-valuation-to-build-the-github-of-machine-learning/), powered by [transformer](https://arxiv.org/pdf/1706.03762.pdf)."
   ]
  },
  {
   "cell_type": "markdown",
   "metadata": {},
   "source": [
    "## Objectives"
   ]
  },
  {
   "cell_type": "markdown",
   "metadata": {},
   "source": [
    "At the end of the session, you will "
   ]
  },
  {
   "cell_type": "markdown",
   "metadata": {},
   "source": [
    "- know how to work with APIs\n",
    "- feel more comfortable navigating thru documentation, even inspecting the source code\n",
    "- understand what a `pipeline` object is in HuggingFace\n",
    "- perform sentiment analysis using `pipeline`\n",
    "- run a python script in command line and get the results"
   ]
  },
  {
   "cell_type": "markdown",
   "metadata": {
    "heading_collapsed": true
   },
   "source": [
    "## How to Submit"
   ]
  },
  {
   "cell_type": "markdown",
   "metadata": {},
   "source": [
    "- At the end of each task, commit* the work into the repository you created before the assignment\n",
    "- After completing all three tasks, make sure to push the notebook containing all code blocks and output cells to your repository you created before the assignment\n",
    "- Submit the link to the notebook in Canvas"
   ]
  },
  {
   "cell_type": "markdown",
   "metadata": {
    "hidden": true
   },
   "source": [
    "\\***NEVER** commit a notebook displaying errors unless it is instructed otherwise. However, commit often; recall git ABC = **A**lways **B**e **C**ommitting."
   ]
  },
  {
   "cell_type": "markdown",
   "metadata": {},
   "source": [
    "## Tasks"
   ]
  },
  {
   "cell_type": "markdown",
   "metadata": {
    "heading_collapsed": true
   },
   "source": [
    "### Task I: Instantiate a Reddit API Object"
   ]
  },
  {
   "cell_type": "markdown",
   "metadata": {
    "hidden": true
   },
   "source": [
    "The first task is to instantiate a Reddit API object using [PRAW](https://praw.readthedocs.io/en/stable/), through which you will retrieve data. PRAW is a wrapper for [Reddit API](https://www.reddit.com/dev/api) that makes interacting with the Reddit API easier unless you are already an expert of [`requests`](https://docs.python-requests.org/en/latest/)."
   ]
  },
  {
   "cell_type": "markdown",
   "metadata": {
    "hidden": true
   },
   "source": [
    "#### 1. Install packages"
   ]
  },
  {
   "cell_type": "markdown",
   "metadata": {
    "hidden": true
   },
   "source": [
    "Please ensure you've ran all the cells in the `imports.ipynb`, located [here](https://github.com/FourthBrain/MLE-8/blob/main/assignments/week-3-analyze-sentiment-subreddit/imports.ipynb), to make sure you have all the required packages for today's assignment."
   ]
  },
  {
   "cell_type": "markdown",
   "metadata": {
    "hidden": true
   },
   "source": [
    "####  2. Create a new app on Reddit "
   ]
  },
  {
   "cell_type": "markdown",
   "metadata": {
    "hidden": true
   },
   "source": [
    "Create a new app on Reddit and save secret tokens; refer to [post in medium](https://towardsdatascience.com/how-to-use-the-reddit-api-in-python-5e05ddfd1e5c) for more details."
   ]
  },
  {
   "cell_type": "markdown",
   "metadata": {
    "hidden": true
   },
   "source": [
    "- Create a Reddit account if you don't have one, log into your account.\n",
    "- To access the API, we need create an app. Slight updates, on the website, you need to navigate to `preference` > `app`, or click [this link](https://www.reddit.com/prefs/apps) and scroll all the way down. \n",
    "- Click to create a new app, fill in the **name**, choose `script`, fill in  **description** and **redirect uri** ( The redirect URI is where the user is sent after they've granted OAuth access to your application (more info [here](https://github.com/reddit-archive/reddit/wiki/OAuth2)) For our purpose, you can enter some random url, e.g., www.google.com; as shown below.\n",
    "\n",
    "\n",
    "    <img src=\"https://miro.medium.com/max/700/1*lRBvxpIe8J2nZYJ6ucMgHA.png\" width=\"500\"/>\n",
    "- Jot down `client_id` (left upper corner) and `client_secret` \n",
    "\n",
    "    NOTE: CLIENT_ID refers to 'personal use script\" and CLIENT_SECRET to secret.\n",
    "    \n",
    "    <div>\n",
    "    <img src=\"https://miro.medium.com/max/700/1*7cGAKth1PMrEf2sHcQWPoA.png\" width=\"300\"/>\n",
    "    </div>\n",
    "\n",
    "- Create `secrets_reddit.py` in the same directory with this notebook, fill in `client_id` and `secret_id` obtained from the last step. We will need to import those constants in the next step.\n",
    "    ```\n",
    "    REDDIT_API_CLIENT_ID = \"client_id\"\n",
    "    REDDIT_API_CLIENT_SECRET = \"secret_id\"\n",
    "    REDDIT_API_USER_AGENT = \"any string except bot; ex. My User Agent\"\n",
    "    ```\n",
    "- Add `secrets_reddit.py` to your `.gitignore` file if not already done. NEVER push credentials to a repo, private or public. "
   ]
  },
  {
   "cell_type": "markdown",
   "metadata": {
    "hidden": true
   },
   "source": [
    "#### 3. Instantiate a `Reddit` object"
   ]
  },
  {
   "cell_type": "markdown",
   "metadata": {
    "hidden": true
   },
   "source": [
    "Now you are ready to create a read-only `Reddit` instance. Refer to [documentation](https://praw.readthedocs.io/en/stable/code_overview/reddit_instance.html) when necessary."
   ]
  },
  {
   "cell_type": "code",
   "execution_count": 11,
   "metadata": {
    "hidden": true
   },
   "outputs": [],
   "source": [
    "import praw\n",
    "import secrets_reddit\n",
    "\n",
    "\n",
    "# Create a Reddit object which allows us to interact with the Reddit API\n",
    "reddit = praw.Reddit(\n",
    "    client_id=secrets_reddit.REDDIT_API_CLIENT_ID,\n",
    "    client_secret=secrets_reddit.REDDIT_API_CLIENT_SECRET,\n",
    "    user_agent=secrets_reddit.REDDIT_API_USER_AGENT,\n",
    ")"
   ]
  },
  {
   "cell_type": "code",
   "execution_count": 12,
   "metadata": {
    "hidden": true,
    "scrolled": true
   },
   "outputs": [
    {
     "name": "stdout",
     "output_type": "stream",
     "text": [
      "<praw.reddit.Reddit object at 0x7f0a1a75c0a0>\n"
     ]
    }
   ],
   "source": [
    "print(reddit) "
   ]
  },
  {
   "cell_type": "markdown",
   "metadata": {},
   "source": [
    "<details>\n",
    "<summary>Expected output:</summary>   \n",
    "\n",
    "```<praw.reddit.Reddit object at 0x10f8a0ac0>```\n",
    "</details>"
   ]
  },
  {
   "cell_type": "markdown",
   "metadata": {
    "hidden": true
   },
   "source": [
    "#### 4. Instantiate a `subreddit` object"
   ]
  },
  {
   "cell_type": "markdown",
   "metadata": {
    "hidden": true
   },
   "source": [
    "Lastly, create a `subreddit` object for your favorite subreddit and inspect the object. The expected output you will see ar from `r/machinelearning` unless otherwise specified."
   ]
  },
  {
   "cell_type": "code",
   "execution_count": 13,
   "metadata": {
    "hidden": true
   },
   "outputs": [
    {
     "name": "stdout",
     "output_type": "stream",
     "text": [
      "nfl\n",
      "NFL: National Football League Discussion\n",
      "[Follow us on Twitter @nflreddit](https://twitter.com/nflreddit \"ad-twitter\")\n",
      "\n",
      "[Reddit is AntiCSS - read what the redesign means to r/nfl](https://www.reddit.com/r/nfl/comments/8glmp1/rnfl_the_redesign_and_the_future_of_reddit/ \"pro-css\")\n",
      "\n",
      "[Rules/Posting Guidelines](/r/nfl/wiki/postingguidelines \"subreddit-rules\")\n",
      "\n",
      "####FAQ\n",
      "\n",
      "[FAQ Page](/r/nfl/w/faq)  \n",
      "\n",
      "**[Select your team flairs here](https://www.reddit.com/r/nfl/wiki/flair/primary)**\n",
      "\n",
      "[Which team should I root for?](https://www.reddit.com/r/nfl/wiki/new/pickateam)\n",
      "\n",
      "#### [](/blank \"START scores\")\n",
      "\n",
      "## Week 10 Schedule\n",
      "\n",
      "Time|Away||@||Home\n",
      "|:--|:--:|--:|:--:|:--|:--:|\n",
      "Thu 08:15PM|[*ATL*](/r/falcons)|15|@|25|[*CAR*](/r/panthers)\n",
      "Sun 09:30AM|[*SEA*](/r/seahawks)|0|@|0|[*TB*](/r/buccaneers)\n",
      "Sun 01:00PM|[*MIN*](/r/minnesotavikings)|0|@|0|[*BUF*](/r/buffalobills)\n",
      "Sun 01:00PM|[*DET*](/r/detroitlions)|0|@|0|[*CHI*](/r/chibears)\n",
      "Sun 01:00PM|[*JAX*](/r/jaguars)|0|@|0|[*KC*](/r/kansascitychiefs)\n",
      "Sun 01:00PM|[*CLE*](/r/browns)|0|@|0|[*MIA*](/r/miamidolphins)\n",
      "Sun 01:00PM|[*HOU*](/r/texans)|0|@|0|[*NYG*](/r/nygiants)\n",
      "Sun 01:00PM|[*NO*](/r/saints)|0|@|0|[*PIT*](/r/steelers)\n",
      "Sun 01:00PM|[*DEN*](/r/denverbroncos)|0|@|0|[*TEN*](/r/tennesseetitans)\n",
      "Sun 04:05PM|[*IND*](/r/colts)|0|@|0|[*LV*](/r/raiders)\n",
      "Sun 04:25PM|[*DAL*](/r/cowboys)|0|@|0|[*GB*](/r/greenbaypackers)\n",
      "Sun 04:25PM|[*ARI*](/r/azcardinals)|0|@|0|[*LA*](/r/losangelesrams)\n",
      "Sun 08:20PM|[*LAC*](/r/chargers)|0|@|0|[*SF*](/r/49ers)\n",
      "Mon 08:15PM|[*WAS*](/r/commanders)|0|@|0|[*PHI*](/r/eagles)\n",
      "\n",
      "\n",
      "#### [](/blank \"END scores\")\n",
      "\n",
      "*All times (EST)*\n",
      "\n",
      "[Which games will be shown locally?](http://506sports.com/nfl/)\n",
      "\n",
      "\n",
      "\n",
      "#### [](/blank \"START standings\")\n",
      "\n",
      "## Standings\n",
      "\n",
      "|AFC|North|AFC|South|\n",
      "|--:|:--|--:|:--|\n",
      "|[*BAL*](/r/ravens)|6-3|[*TEN*](/r/tennesseetitans)|5-3|\n",
      "|[*CIN*](/r/bengals)|5-4|[*IND*](/r/colts)|3-5-1|\n",
      "|[*CLE*](/r/browns)|3-5|[*JAX*](/r/jaguars)|3-6|\n",
      "|[*PIT*](/r/steelers)|2-6|[*HOU*](/r/texans)|1-6-1|\n",
      "\n",
      "|AFC|East|AFC|West|\n",
      "|--:|:--|--:|:--|\n",
      "|[*BUF*](/r/buffalobills)|6-2|[*KC*](/r/kansascitychiefs)|6-2|\n",
      "|[*NYJ*](/r/nyjets)|6-3|[*LAC*](/r/chargers)|5-3|\n",
      "|[*MIA*](/r/miamidolphins)|6-3|[*DEN*](/r/denverbroncos)|3-5|\n",
      "|[*NE*](/r/patriots)|5-4|[*LV*](/r/raiders)|2-6|\n",
      "\n",
      "|NFC|North|NFC|South|\n",
      "|--:|:--|--:|:--|\n",
      "|[*MIN*](/r/minnesotavikings)|7-1|[*TB*](/r/buccaneers)|4-5|\n",
      "|[*GB*](/r/greenbaypackers)|3-6|[*ATL*](/r/falcons)|4-6|\n",
      "|[*CHI*](/r/chibears)|3-6|[*NO*](/r/saints)|3-6|\n",
      "|[*DET*](/r/detroitlions)|2-6|[*CAR*](/r/panthers)|3-7|\n",
      "\n",
      "|NFC|East|NFC|West|\n",
      "|--:|:--|--:|:--|\n",
      "|[*PHI*](/r/eagles)|8-0|[*SEA*](/r/seahawks)|6-3|\n",
      "|[*DAL*](/r/cowboys)|6-2|[*SF*](/r/49ers)|4-4|\n",
      "|[*NYG*](/r/nygiants)|6-2|[*LA*](/r/losangelesrams)|3-5|\n",
      "|[*WAS*](/r/commanders)|4-5|[*ARI*](/r/azcardinals)|3-6|\n",
      "\n",
      "\n",
      "\n",
      "#### [](/blank \"END standings\")\n",
      "\n",
      "\n",
      "x = Clinched playoff berth  \n",
      "y = Clinched division title  \n",
      "z = Clinched Wild card  \n",
      "* = Clinched homefield advantage  \n",
      "† = Eliminated  \n",
      "\n",
      "#### [](/blank \"START calendar\")\n",
      "\n",
      "# Upcoming events\n",
      "\n",
      "No upcoming events\n",
      "\n",
      "#### [](/blank \"END calendar\")\n",
      "\n",
      "\n",
      "## [Free Talk Threads](/r/nfl/search/?q=flair%3A\"Free+Talk\"&sort=new&restrict_sr=on&t=all)\n",
      "\n",
      "\n",
      "## NFL Subreddits\n",
      "* /r/cordcutters - [How to watch NFL games](https://www.reddit.com/r/cordcutters/wiki/nflguide)\n",
      "* /r/nflnoobs - For all your NFL-related questions\n",
      "* /r/nflfandom - NFL Show & Tell\n",
      "* /r/nflmarketplace - Buy, sell, trade, everything NFL related\n",
      "* /r/nfffffffluuuuuuuuuuuu - NFL Memes\n",
      "* /r/nflcirclejerk - Do it for Tebow\n",
      "* /r/nflroundtable - NFL Discussion\n",
      "* /r/nflofftopic - r/NFL for non-NFL topics\n",
      "* /r/nflfilms - NFL Films\n",
      "* /r/madden - NFL Madden\n",
      "* /r/nfl_draft - NFL Draft\n",
      "* /r/nflblogs - NFL Blogs\n",
      "* /r/nflgifs - NFL Gifs\n",
      "\n",
      "## Football Subreddits\n",
      "\n",
      "* /r/cfb - College Football\n",
      "* /r/CFL - Canadian Football\n",
      "* /r/arenafootball - Arena Football\n",
      "* /r/fantasyfootball - Fantasy Football\n",
      "* /r/footballstrategy - Football Strategy\n",
      "* /r/footballcards - Football Card Collecting\n",
      "* /r/eurobowl - Football in Europe\n",
      "* /r/xfl - Xtreme Football League \n",
      "* /r/usfl - United States Football League\n",
      "\n",
      "----\n",
      "\n",
      "### [](/blank)\n",
      "\n",
      "----\n",
      "\n",
      "####  [](/blank)\n",
      "\n",
      "#  [](/blank)\n",
      "\n",
      "* [](/r/kansascitychiefs) [](/r/denverbroncos) [](/r/colts) [](/r/texans) [](/r/bengals) [](/r/ravens) [](/r/miamidolphins) [](/r/buffalobills) [](/r/raiders) [](/r/chargers) [](/r/tennesseetitans) [](/r/jaguars) [](/r/steelers) [](/r/browns) [](/r/nyjets) [](/r/patriots) \n",
      "* [](/r/cowboys) [](/r/nygiants) [](/r/chibears) [](/r/detroitlions) [](/r/falcons) [](/r/panthers) [](/r/azcardinals) [](/r/losangelesrams) [](/r/eagles) [](/r/commanders) [](/r/greenbaypackers) [](/r/minnesotavikings) [](/r/saints) [](/r/buccaneers) [](/r/49ers) [](/r/seahawks)\n"
     ]
    }
   ],
   "source": [
    "# assume you have a praw.Reddit instance bound to variable `reddit`\n",
    "subreddit = reddit.subreddit(\"nfl\")\n",
    "\n",
    "print(subreddit.display_name)\n",
    "# Output: redditdev\n",
    "print(subreddit.title)\n",
    "# Output: reddit development\n",
    "print(subreddit.description)\n",
    "# Output: a subreddit for discussion of ..."
   ]
  },
  {
   "cell_type": "markdown",
   "metadata": {
    "hidden": true
   },
   "source": [
    "What is the display name of the subreddit?"
   ]
  },
  {
   "cell_type": "markdown",
   "metadata": {},
   "source": [
    "NFL"
   ]
  },
  {
   "cell_type": "markdown",
   "metadata": {
    "hidden": true
   },
   "source": [
    "How about its title, is it different from the display name?"
   ]
  },
  {
   "cell_type": "markdown",
   "metadata": {
    "hidden": true
   },
   "source": [
    "Yes. The title was \"NFL: National Football League Discussion\""
   ]
  },
  {
   "cell_type": "markdown",
   "metadata": {
    "hidden": true
   },
   "source": [
    "Print out the description of the subreddit:"
   ]
  },
  {
   "cell_type": "markdown",
   "metadata": {},
   "source": [
    "[Follow us on Twitter @nflreddit](https://twitter.com/nflreddit \"ad-twitter\")\n",
    "\n",
    "[Reddit is AntiCSS - read what the redesign means to r/nfl](https://www.reddit.com/r/nfl/comments/8glmp1/rnfl_the_redesign_and_the_future_of_reddit/ \"pro-css\")\n",
    "\n",
    "[Rules/Posting Guidelines](/r/nfl/wiki/postingguidelines \"subreddit-rules\")"
   ]
  },
  {
   "cell_type": "markdown",
   "metadata": {
    "heading_collapsed": true
   },
   "source": [
    "### Task II: Parse comments"
   ]
  },
  {
   "cell_type": "markdown",
   "metadata": {
    "heading_collapsed": true,
    "hidden": true
   },
   "source": [
    "#### 1. Top Posts of All Time"
   ]
  },
  {
   "cell_type": "markdown",
   "metadata": {
    "hidden": true
   },
   "source": [
    "Find titles of top 10 posts of **all time** from your favorite subreddit. Refer to [Obtain Submission Instances from a Subreddit Section](https://praw.readthedocs.io/en/stable/getting_started/quick_start.html)) if necessary. Verify if the titles match what you read on Reddit."
   ]
  },
  {
   "cell_type": "code",
   "execution_count": 23,
   "metadata": {
    "hidden": true
   },
   "outputs": [],
   "source": [
    "subreddit = reddit.subreddit(\"nfl\")\n",
    "?subreddit.top "
   ]
  },
  {
   "cell_type": "code",
   "execution_count": 28,
   "metadata": {
    "hidden": true
   },
   "outputs": [
    {
     "name": "stdout",
     "output_type": "stream",
     "text": [
      "[Highlight] NO vs MIN - Diggs game-winning TD reception\n",
      "45618\n",
      "7qg5lv\n",
      "https://streamable.com/2jqws\n",
      "[Highlight] Dolphins score on the final play to beat the Pats\n",
      "40120\n",
      "a4otjd\n",
      "https://streamable.com/99giz\n",
      "[NFL Update on Twitter]Tom Brady now has more Super Bowl wins than all 32 NFL franchises.\n",
      "35268\n",
      "lf2h8z\n",
      "https://twitter.com/MySportsUpdate/status/1358610322253348864\n",
      "[Tom Brady] These past two months I’ve realized my place is still on the field and not in the stands. That time will come. But it’s not now. I love my teammates, and I love my supportive family. They make it all possible. I’m coming back for my 23rd season in Tampa. Unfinished business LFG\n",
      "34845\n",
      "tdj8ka\n",
      "https://twitter.com/TomBrady/status/1503147141795045378\n",
      "New England Patriots are the Super Bowl LI Champions\n",
      "34448\n",
      "5sbt58\n",
      "https://www.reddit.com/r/nfl/comments/5sbt58/new_england_patriots_are_the_super_bowl_li/\n",
      "[Kleiman] Nantz to Romo: \"Welcome to the Superbowl.\" Romo: “I’ve been waiting to hear welcome to the Super Bowl my whole life”\n",
      "34235\n",
      "amvbvs\n",
      "https://twitter.com/NFL_DovKleiman/status/1092198308242735109\n",
      "Between Tom Brady's 3rd Superbowl appearance and his 10th, Calvin Johnson has been drafted, retired, and made the Hall of Fame.\n",
      "33664\n",
      "leu6gi\n",
      "https://www.reddit.com/r/nfl/comments/leu6gi/between_tom_bradys_3rd_superbowl_appearance_and/\n",
      "[Baldwin] Aaron Rodgers on his recovery: \"I consulted a good friend of mine, Joe Rogan, and I've been doing a lot of the stuff he recommended in his podcast.\"\n",
      "32172\n",
      "qng4a7\n",
      "https://twitter.com/benbbaldwin/status/1456674356285911052\n",
      "[Ari Meirov] NFL great John Madden has passed away at the age of 85.\n",
      "31736\n",
      "rqts9j\n",
      "https://twitter.com/MySportsUpdate/status/1475981931317805065?t=0DWNeK1pvs8fArZUnN8TmQ&s=19\n",
      "[B/R Gridiron] Bengals DE Sam Hubbard says the team wants to win a Super Bowl to honor Harambe, who was killed at the Cincinnati Zoo in 2016\n",
      "31677\n",
      "sjqhh9\n",
      "https://twitter.com/brgridiron/status/1489304851024592897?s=21\n"
     ]
    }
   ],
   "source": [
    "for submission in subreddit.top(limit=10):\n",
    "    print(submission.title)\n",
    "    # Output: the submission's title\n",
    "    print(submission.score)\n",
    "    # Output: the submission's score\n",
    "    print(submission.id)\n",
    "    # Output: the submission's ID\n",
    "    print(submission.url)\n",
    "    # Output: the URL the submission points to or the submission's URL if it's a self post"
   ]
  },
  {
   "cell_type": "markdown",
   "metadata": {
    "hidden": true
   },
   "source": [
    "<details> <summary>Expected output:</summary>\n",
    "\n",
    "    [Project] From books to presentations in 10s with AR + ML\n",
    "    [D] A Demo from 1993 of 32-year-old Yann LeCun showing off the World's first Convolutional Network for Text Recognition\n",
    "    [R] First Order Motion Model applied to animate paintings\n",
    "    [N] AI can turn old photos into moving Images / Link is given in the comments - You can also turn your old photo like this\n",
    "    [D] This AI reveals how much time politicians stare at their phone at work\n",
    "    [D] Types of Machine Learning Papers\n",
    "    [D] The machine learning community has a toxicity problem\n",
    "    [Project] NEW PYTHON PACKAGE: Sync GAN Art to Music with \"Lucid Sonic Dreams\"! (Link in Comments)\n",
    "    [P] Using oil portraits and First Order Model to bring the paintings back to life\n",
    "    [D] Convolution Neural Network Visualization - Made with Unity 3D and lots of Code / source - stefsietz (IG)    \n",
    "</details>"
   ]
  },
  {
   "cell_type": "markdown",
   "metadata": {
    "heading_collapsed": true,
    "hidden": true
   },
   "source": [
    "#### 2. Top 10 Posts of This Week"
   ]
  },
  {
   "cell_type": "markdown",
   "metadata": {
    "hidden": true
   },
   "source": [
    "What are the titles of the top 10 posts of **this week** from your favorite subreddit?"
   ]
  },
  {
   "cell_type": "code",
   "execution_count": 27,
   "metadata": {
    "hidden": true
   },
   "outputs": [
    {
     "name": "stdout",
     "output_type": "stream",
     "text": [
      "[Highlight] Packers dont get the TD and Lions win.\n",
      "12933\n",
      "yo2w2b\n",
      "https://v.redd.it/g0cogcd0cey91\n",
      "[Manso] Mike McDaniel explaining what he told Fields: \"I just wanted him to stop scrambling, and it was pretty irritating because he didn’t listen at all.”\n",
      "11163\n",
      "yp2933\n",
      "https://twitter.com/WillManso/status/1589735224501755904?t=fbmjmlQ6S6lIH6_RxsyyAQ&s=19\n",
      "[Schefter] Frank Reich is out as the head coach of the Indianapolis Colts, sources tell ESPN.\n",
      "10781\n",
      "yos85f\n",
      "https://twitter.com/AdamSchefter/status/1589656790265778176\n",
      "[Schefter] Colts are naming their former six-time Pro-Bowl C and ESPN analyst Jeff Saturday as their interim head coach. Saturday has been a consultant for the team, is in its Ring Of Honor, and also was head coach for the Hebron Christian Academy football team in Dacula, Georgia.\n",
      "10076\n",
      "youfdn\n",
      "https://twitter.com/AdamSchefter/status/1589675522405314561\n",
      "[Keefer] Jeff Saturday:: \"Here's the deal, man. None of us are promised a good job. I may be terrible at this. And after eight games, I'll say, 'God bless you. I am no good.' I may be really good it? But I dang sure ain't gonna back down.\"\n",
      "9769\n",
      "yqtvh8\n",
      "https://twitter.com/zkeefer/status/1590421569461178369?s=20&t=aqXkWDgdbFqVhx1L8kOnyQ\n",
      "[Highlight] Vikings play bowling.\n",
      "9322\n",
      "yo253f\n",
      "https://v.redd.it/mdh8zkoe7ey91\n",
      "QBs the Philadelphia Eagles have beaten since 2021\n",
      "8570\n",
      "ym29ik\n",
      "https://www.reddit.com/r/nfl/comments/ym29ik/qbs_the_philadelphia_eagles_have_beaten_since_2021/\n",
      "[Ari Meirov] The #Packers have lost five in a row with losses to the Giants, Jets, Commanders, Bills and now Lions.\n",
      "8050\n",
      "yo2vot\n",
      "https://twitter.com/mysportsupdate/status/1589364362963144704?s=46&t=5BOBAtiUJ-fXIca9eipKnA\n",
      "[Garafolo] #Bills QB Josh Allen: “It’s tough to win when your quarterback plays like shit.”\n",
      "7555\n",
      "yo38tu\n",
      "https://twitter.com/mikegarafolo/status/1589367416194498560?s=46&t=CVg0_AnlK1Kt7Z0Y_ri8Ug\n",
      "[Hightlighr] 61 yard touchdown run for Fields\n",
      "7562\n",
      "yo0lbe\n",
      "https://twitter.com/nfl_dovkleiman/status/1589343911516020741?s=46&t=5BOBAtiUJ-fXIca9eipKnA\n"
     ]
    }
   ],
   "source": [
    "for submission in subreddit.top(limit=10, time_filter=\"week\"):\n",
    "    print(submission.title)\n",
    "    # Output: the submission's title\n",
    "    print(submission.score)\n",
    "    # Output: the submission's score\n",
    "    print(submission.id)\n",
    "    # Output: the submission's ID\n",
    "    print(submission.url)\n",
    "    # Output: the URL the submission points to or the submission's URL if it's a self post"
   ]
  },
  {
   "cell_type": "markdown",
   "metadata": {
    "hidden": true
   },
   "source": [
    "<details><summary>Expected output:</summary>\n",
    "\n",
    "    [N] Ian Goodfellow, Apple’s director of machine learning, is leaving the company due to its return to work policy. In a note to staff, he said “I believe strongly that more flexibility would have been the best policy for my team.” He was likely the company’s most cited ML expert.\n",
    "    [R][P] Thin-Plate Spline Motion Model for Image Animation + Gradio Web Demo\n",
    "    [P] I’ve been trying to understand the limits of some of the available machine learning models out there. Built an app that lets you try a mix of CLIP from Open AI + Apple’s version of MobileNet, and more directly on your phone's camera roll.\n",
    "    [R] Meta is releasing a 175B parameter language model\n",
    "    [N] Hugging Face raised $100M at $2B to double down on community, open-source & ethics\n",
    "    [P] T-SNE to view and order your Spotify tracks\n",
    "    [D] : HELP Finding a Book - A book written for Google Engineers about foundational Math to support ML\n",
    "    [R] Scaled up CLIP-like model (~2B) shows 86% Zero-shot on Imagenet\n",
    "    [D] Do you use NLTK or Spacy for text preprocessing?\n",
    "    [D] Democratizing Diffusion Models - LDMs: High-Resolution Image Synthesis with Latent Diffusion Models, a 5-minute paper summary by Casual GAN Papers\n",
    "</details>"
   ]
  },
  {
   "cell_type": "markdown",
   "metadata": {},
   "source": [
    "💽❓ Data Question:\n",
    "\n",
    "Check out what other attributes the `praw.models.Submission` class has in the [docs](https://praw.readthedocs.io/en/stable/code_overview/models/submission.html). \n",
    "\n",
    "1. After having a chance to look through the docs, is there any other information that you might want to extract? How might this additional data help you?\n",
    "\n",
    "Write a sample piece of code below extracting three additional pieces of information from the submission below."
   ]
  },
  {
   "cell_type": "markdown",
   "metadata": {},
   "source": [
    "Other information/attributes that can be gained using praw are \"author\", \"created_date\", and \"allow_live_comments\". This information would help me understand who created the highly upvoted submission, when the submission was created, and live comments are allowed."
   ]
  },
  {
   "cell_type": "code",
   "execution_count": 32,
   "metadata": {
    "scrolled": false
   },
   "outputs": [
    {
     "name": "stdout",
     "output_type": "stream",
     "text": [
      "[Highlight] Packers dont get the TD and Lions win.\n",
      "{'_comments': <praw.models.comment_forest.CommentForest object at 0x7f0a30142460>,\n",
      " '_comments_by_id': {'t1_ivbzvzh': Comment(id='ivbzvzh'),\n",
      "                     't1_ivbzwcf': Comment(id='ivbzwcf'),\n",
      "                     't1_ivbzweh': Comment(id='ivbzweh'),\n",
      "                     't1_ivbzwub': Comment(id='ivbzwub'),\n",
      "                     't1_ivbzwwc': Comment(id='ivbzwwc'),\n",
      "                     't1_ivbzwx7': Comment(id='ivbzwx7'),\n",
      "                     't1_ivbzx69': Comment(id='ivbzx69'),\n",
      "                     't1_ivbzxnw': Comment(id='ivbzxnw'),\n",
      "                     't1_ivbzxpx': Comment(id='ivbzxpx'),\n",
      "                     't1_ivbzxv6': Comment(id='ivbzxv6'),\n",
      "                     't1_ivbzxvs': Comment(id='ivbzxvs'),\n",
      "                     't1_ivbzxz0': Comment(id='ivbzxz0'),\n",
      "                     't1_ivbzy9n': Comment(id='ivbzy9n'),\n",
      "                     't1_ivbzym1': Comment(id='ivbzym1'),\n",
      "                     't1_ivbzyu7': Comment(id='ivbzyu7'),\n",
      "                     't1_ivbzywv': Comment(id='ivbzywv'),\n",
      "                     't1_ivbzz0i': Comment(id='ivbzz0i'),\n",
      "                     't1_ivbzz1b': Comment(id='ivbzz1b'),\n",
      "                     't1_ivbzzah': Comment(id='ivbzzah'),\n",
      "                     't1_ivbzzqb': Comment(id='ivbzzqb'),\n",
      "                     't1_ivc008h': Comment(id='ivc008h'),\n",
      "                     't1_ivc00as': Comment(id='ivc00as'),\n",
      "                     't1_ivc00se': Comment(id='ivc00se'),\n",
      "                     't1_ivc019t': Comment(id='ivc019t'),\n",
      "                     't1_ivc01dq': Comment(id='ivc01dq'),\n",
      "                     't1_ivc01s7': Comment(id='ivc01s7'),\n",
      "                     't1_ivc0274': Comment(id='ivc0274'),\n",
      "                     't1_ivc0299': Comment(id='ivc0299'),\n",
      "                     't1_ivc02z3': Comment(id='ivc02z3'),\n",
      "                     't1_ivc03ac': Comment(id='ivc03ac'),\n",
      "                     't1_ivc03f9': Comment(id='ivc03f9'),\n",
      "                     't1_ivc03p9': Comment(id='ivc03p9'),\n",
      "                     't1_ivc04ud': Comment(id='ivc04ud'),\n",
      "                     't1_ivc05r2': Comment(id='ivc05r2'),\n",
      "                     't1_ivc063h': Comment(id='ivc063h'),\n",
      "                     't1_ivc06in': Comment(id='ivc06in'),\n",
      "                     't1_ivc06m2': Comment(id='ivc06m2'),\n",
      "                     't1_ivc06yp': Comment(id='ivc06yp'),\n",
      "                     't1_ivc06z4': Comment(id='ivc06z4'),\n",
      "                     't1_ivc070m': Comment(id='ivc070m'),\n",
      "                     't1_ivc073p': Comment(id='ivc073p'),\n",
      "                     't1_ivc07j6': Comment(id='ivc07j6'),\n",
      "                     't1_ivc088r': Comment(id='ivc088r'),\n",
      "                     't1_ivc08as': Comment(id='ivc08as'),\n",
      "                     't1_ivc08tw': Comment(id='ivc08tw'),\n",
      "                     't1_ivc08uo': Comment(id='ivc08uo'),\n",
      "                     't1_ivc09ae': Comment(id='ivc09ae'),\n",
      "                     't1_ivc09gh': Comment(id='ivc09gh'),\n",
      "                     't1_ivc0ag0': Comment(id='ivc0ag0'),\n",
      "                     't1_ivc0aym': Comment(id='ivc0aym'),\n",
      "                     't1_ivc0b5g': Comment(id='ivc0b5g'),\n",
      "                     't1_ivc0beg': Comment(id='ivc0beg'),\n",
      "                     't1_ivc0bwz': Comment(id='ivc0bwz'),\n",
      "                     't1_ivc0bxi': Comment(id='ivc0bxi'),\n",
      "                     't1_ivc0c72': Comment(id='ivc0c72'),\n",
      "                     't1_ivc0dav': Comment(id='ivc0dav'),\n",
      "                     't1_ivc0ef8': Comment(id='ivc0ef8'),\n",
      "                     't1_ivc0ehm': Comment(id='ivc0ehm'),\n",
      "                     't1_ivc0elb': Comment(id='ivc0elb'),\n",
      "                     't1_ivc0f5g': Comment(id='ivc0f5g'),\n",
      "                     't1_ivc0fhw': Comment(id='ivc0fhw'),\n",
      "                     't1_ivc0gmg': Comment(id='ivc0gmg'),\n",
      "                     't1_ivc0hkr': Comment(id='ivc0hkr'),\n",
      "                     't1_ivc0j20': Comment(id='ivc0j20'),\n",
      "                     't1_ivc0jsh': Comment(id='ivc0jsh'),\n",
      "                     't1_ivc0l1z': Comment(id='ivc0l1z'),\n",
      "                     't1_ivc0meu': Comment(id='ivc0meu'),\n",
      "                     't1_ivc0n3p': Comment(id='ivc0n3p'),\n",
      "                     't1_ivc0n53': Comment(id='ivc0n53'),\n",
      "                     't1_ivc0odo': Comment(id='ivc0odo'),\n",
      "                     't1_ivc0okw': Comment(id='ivc0okw'),\n",
      "                     't1_ivc0roa': Comment(id='ivc0roa'),\n",
      "                     't1_ivc0rp9': Comment(id='ivc0rp9'),\n",
      "                     't1_ivc0ux7': Comment(id='ivc0ux7'),\n",
      "                     't1_ivc0vqy': Comment(id='ivc0vqy'),\n",
      "                     't1_ivc0wbi': Comment(id='ivc0wbi'),\n",
      "                     't1_ivc0xgb': Comment(id='ivc0xgb'),\n",
      "                     't1_ivc0xmt': Comment(id='ivc0xmt'),\n",
      "                     't1_ivc0y2n': Comment(id='ivc0y2n'),\n",
      "                     't1_ivc13ip': Comment(id='ivc13ip'),\n",
      "                     't1_ivc14t2': Comment(id='ivc14t2'),\n",
      "                     't1_ivc1711': Comment(id='ivc1711'),\n",
      "                     't1_ivc17a1': Comment(id='ivc17a1'),\n",
      "                     't1_ivc17wh': Comment(id='ivc17wh'),\n",
      "                     't1_ivc19if': Comment(id='ivc19if'),\n",
      "                     't1_ivc19yi': Comment(id='ivc19yi'),\n",
      "                     't1_ivc1a2i': Comment(id='ivc1a2i'),\n",
      "                     't1_ivc1ab1': Comment(id='ivc1ab1'),\n",
      "                     't1_ivc1c3p': Comment(id='ivc1c3p'),\n",
      "                     't1_ivc1dnm': Comment(id='ivc1dnm'),\n",
      "                     't1_ivc1gcm': Comment(id='ivc1gcm'),\n",
      "                     't1_ivc1h3i': Comment(id='ivc1h3i'),\n",
      "                     't1_ivc1hk1': Comment(id='ivc1hk1'),\n",
      "                     't1_ivc1ieh': Comment(id='ivc1ieh'),\n",
      "                     't1_ivc1igy': Comment(id='ivc1igy'),\n",
      "                     't1_ivc1jrp': Comment(id='ivc1jrp'),\n",
      "                     't1_ivc1lzm': Comment(id='ivc1lzm'),\n",
      "                     't1_ivc1mlt': Comment(id='ivc1mlt'),\n",
      "                     't1_ivc1nmh': Comment(id='ivc1nmh'),\n",
      "                     't1_ivc1v0m': Comment(id='ivc1v0m'),\n",
      "                     't1_ivc1xa4': Comment(id='ivc1xa4'),\n",
      "                     't1_ivc1z3i': Comment(id='ivc1z3i'),\n",
      "                     't1_ivc22tc': Comment(id='ivc22tc'),\n",
      "                     't1_ivc24x6': Comment(id='ivc24x6'),\n",
      "                     't1_ivc25ot': Comment(id='ivc25ot'),\n",
      "                     't1_ivc29ah': Comment(id='ivc29ah'),\n",
      "                     't1_ivc2c9j': Comment(id='ivc2c9j'),\n",
      "                     't1_ivc2dtb': Comment(id='ivc2dtb'),\n",
      "                     't1_ivc2fdz': Comment(id='ivc2fdz'),\n",
      "                     't1_ivc2fj3': Comment(id='ivc2fj3'),\n",
      "                     't1_ivc2gxr': Comment(id='ivc2gxr'),\n",
      "                     't1_ivc2hgo': Comment(id='ivc2hgo'),\n",
      "                     't1_ivc2i66': Comment(id='ivc2i66'),\n",
      "                     't1_ivc2iet': Comment(id='ivc2iet'),\n",
      "                     't1_ivc2ls5': Comment(id='ivc2ls5'),\n",
      "                     't1_ivc2mad': Comment(id='ivc2mad'),\n",
      "                     't1_ivc2mg1': Comment(id='ivc2mg1'),\n",
      "                     't1_ivc2ogq': Comment(id='ivc2ogq'),\n",
      "                     't1_ivc2sw3': Comment(id='ivc2sw3'),\n",
      "                     't1_ivc2tow': Comment(id='ivc2tow'),\n",
      "                     't1_ivc2vwx': Comment(id='ivc2vwx'),\n",
      "                     't1_ivc2wep': Comment(id='ivc2wep'),\n",
      "                     't1_ivc2wxp': Comment(id='ivc2wxp'),\n",
      "                     't1_ivc2yg5': Comment(id='ivc2yg5'),\n",
      "                     't1_ivc32dt': Comment(id='ivc32dt'),\n",
      "                     't1_ivc33vu': Comment(id='ivc33vu'),\n",
      "                     't1_ivc354f': Comment(id='ivc354f'),\n",
      "                     't1_ivc36hf': Comment(id='ivc36hf'),\n",
      "                     't1_ivc37m5': Comment(id='ivc37m5'),\n",
      "                     't1_ivc38gw': Comment(id='ivc38gw'),\n",
      "                     't1_ivc3951': Comment(id='ivc3951'),\n",
      "                     't1_ivc39is': Comment(id='ivc39is'),\n",
      "                     't1_ivc3civ': Comment(id='ivc3civ'),\n",
      "                     't1_ivc3eef': Comment(id='ivc3eef'),\n",
      "                     't1_ivc3f2f': Comment(id='ivc3f2f'),\n",
      "                     't1_ivc3hnk': Comment(id='ivc3hnk'),\n",
      "                     't1_ivc3hzf': Comment(id='ivc3hzf'),\n",
      "                     't1_ivc3iha': Comment(id='ivc3iha'),\n",
      "                     't1_ivc3kw5': Comment(id='ivc3kw5'),\n",
      "                     't1_ivc3m6s': Comment(id='ivc3m6s'),\n",
      "                     't1_ivc3ofz': Comment(id='ivc3ofz'),\n",
      "                     't1_ivc3pce': Comment(id='ivc3pce'),\n",
      "                     't1_ivc3q3w': Comment(id='ivc3q3w'),\n",
      "                     't1_ivc3shv': Comment(id='ivc3shv'),\n",
      "                     't1_ivc3t4i': Comment(id='ivc3t4i'),\n",
      "                     't1_ivc400b': Comment(id='ivc400b'),\n",
      "                     't1_ivc45fp': Comment(id='ivc45fp'),\n",
      "                     't1_ivc45or': Comment(id='ivc45or'),\n",
      "                     't1_ivc484q': Comment(id='ivc484q'),\n",
      "                     't1_ivc4b89': Comment(id='ivc4b89'),\n",
      "                     't1_ivc4do1': Comment(id='ivc4do1'),\n",
      "                     't1_ivc4glk': Comment(id='ivc4glk'),\n",
      "                     't1_ivc4gv2': Comment(id='ivc4gv2'),\n",
      "                     't1_ivc4jik': Comment(id='ivc4jik'),\n",
      "                     't1_ivc4k0u': Comment(id='ivc4k0u'),\n",
      "                     't1_ivc4mw8': Comment(id='ivc4mw8'),\n",
      "                     't1_ivc4nq3': Comment(id='ivc4nq3'),\n",
      "                     't1_ivc4pac': Comment(id='ivc4pac'),\n",
      "                     't1_ivc4pb3': Comment(id='ivc4pb3'),\n",
      "                     't1_ivc4rb0': Comment(id='ivc4rb0'),\n",
      "                     't1_ivc4rl5': Comment(id='ivc4rl5'),\n",
      "                     't1_ivc4so3': Comment(id='ivc4so3'),\n",
      "                     't1_ivc4v5e': Comment(id='ivc4v5e'),\n",
      "                     't1_ivc4va3': Comment(id='ivc4va3'),\n",
      "                     't1_ivc4wlb': Comment(id='ivc4wlb'),\n",
      "                     't1_ivc4woe': Comment(id='ivc4woe'),\n",
      "                     't1_ivc4z8m': Comment(id='ivc4z8m'),\n",
      "                     't1_ivc500j': Comment(id='ivc500j'),\n",
      "                     't1_ivc50va': Comment(id='ivc50va'),\n",
      "                     't1_ivc51ip': Comment(id='ivc51ip'),\n",
      "                     't1_ivc525z': Comment(id='ivc525z'),\n",
      "                     't1_ivc5424': Comment(id='ivc5424'),\n",
      "                     't1_ivc553b': Comment(id='ivc553b'),\n",
      "                     't1_ivc55eo': Comment(id='ivc55eo'),\n",
      "                     't1_ivc569i': Comment(id='ivc569i'),\n",
      "                     't1_ivc58s9': Comment(id='ivc58s9'),\n",
      "                     't1_ivc5abw': Comment(id='ivc5abw'),\n",
      "                     't1_ivc5adw': Comment(id='ivc5adw'),\n",
      "                     't1_ivc5bko': Comment(id='ivc5bko'),\n",
      "                     't1_ivc5cf9': Comment(id='ivc5cf9'),\n",
      "                     't1_ivc5cu1': Comment(id='ivc5cu1'),\n",
      "                     't1_ivc5dfl': Comment(id='ivc5dfl'),\n",
      "                     't1_ivc5kdk': Comment(id='ivc5kdk'),\n",
      "                     't1_ivc5moi': Comment(id='ivc5moi'),\n",
      "                     't1_ivc5rk0': Comment(id='ivc5rk0'),\n",
      "                     't1_ivc5tx7': Comment(id='ivc5tx7'),\n",
      "                     't1_ivc60c5': Comment(id='ivc60c5'),\n",
      "                     't1_ivc66xj': Comment(id='ivc66xj'),\n",
      "                     't1_ivc69hb': Comment(id='ivc69hb'),\n",
      "                     't1_ivc6bwn': Comment(id='ivc6bwn'),\n",
      "                     't1_ivc6glu': Comment(id='ivc6glu'),\n",
      "                     't1_ivc6j7w': Comment(id='ivc6j7w'),\n",
      "                     't1_ivc6pmr': Comment(id='ivc6pmr'),\n",
      "                     't1_ivc6rdr': Comment(id='ivc6rdr'),\n",
      "                     't1_ivc6w2c': Comment(id='ivc6w2c'),\n",
      "                     't1_ivc7aap': Comment(id='ivc7aap'),\n",
      "                     't1_ivc7aua': Comment(id='ivc7aua'),\n",
      "                     't1_ivc7bjg': Comment(id='ivc7bjg'),\n",
      "                     't1_ivc7d5x': Comment(id='ivc7d5x'),\n",
      "                     't1_ivc7kbo': Comment(id='ivc7kbo'),\n",
      "                     't1_ivc7muc': Comment(id='ivc7muc'),\n",
      "                     't1_ivc7val': Comment(id='ivc7val'),\n",
      "                     't1_ivc7xhn': Comment(id='ivc7xhn'),\n",
      "                     't1_ivc7xmc': Comment(id='ivc7xmc'),\n",
      "                     't1_ivc80r0': Comment(id='ivc80r0'),\n",
      "                     't1_ivc81wj': Comment(id='ivc81wj'),\n",
      "                     't1_ivc8aok': Comment(id='ivc8aok'),\n",
      "                     't1_ivc8bvi': Comment(id='ivc8bvi'),\n",
      "                     't1_ivc8hs1': Comment(id='ivc8hs1'),\n",
      "                     't1_ivc8qk7': Comment(id='ivc8qk7'),\n",
      "                     't1_ivc8rkl': Comment(id='ivc8rkl'),\n",
      "                     't1_ivc91vv': Comment(id='ivc91vv'),\n",
      "                     't1_ivc92e7': Comment(id='ivc92e7'),\n",
      "                     't1_ivc93u8': Comment(id='ivc93u8'),\n",
      "                     't1_ivc941k': Comment(id='ivc941k'),\n",
      "                     't1_ivc9bw3': Comment(id='ivc9bw3'),\n",
      "                     't1_ivc9ibg': Comment(id='ivc9ibg'),\n",
      "                     't1_ivc9j01': Comment(id='ivc9j01'),\n",
      "                     't1_ivc9n7f': Comment(id='ivc9n7f'),\n",
      "                     't1_ivc9pgl': Comment(id='ivc9pgl'),\n",
      "                     't1_ivc9til': Comment(id='ivc9til'),\n",
      "                     't1_ivc9tms': Comment(id='ivc9tms'),\n",
      "                     't1_ivc9voe': Comment(id='ivc9voe'),\n",
      "                     't1_ivca03z': Comment(id='ivca03z'),\n",
      "                     't1_ivca29m': Comment(id='ivca29m'),\n",
      "                     't1_ivca608': Comment(id='ivca608'),\n",
      "                     't1_ivca701': Comment(id='ivca701'),\n",
      "                     't1_ivcab6u': Comment(id='ivcab6u'),\n",
      "                     't1_ivcae68': Comment(id='ivcae68'),\n",
      "                     't1_ivcai5b': Comment(id='ivcai5b'),\n",
      "                     't1_ivcao3g': Comment(id='ivcao3g'),\n",
      "                     't1_ivcaruh': Comment(id='ivcaruh'),\n",
      "                     't1_ivcascj': Comment(id='ivcascj'),\n",
      "                     't1_ivcasik': Comment(id='ivcasik'),\n",
      "                     't1_ivcau5d': Comment(id='ivcau5d'),\n",
      "                     't1_ivcaxr3': Comment(id='ivcaxr3'),\n",
      "                     't1_ivcb0as': Comment(id='ivcb0as'),\n",
      "                     't1_ivcb0fo': Comment(id='ivcb0fo'),\n",
      "                     't1_ivcb1f6': Comment(id='ivcb1f6'),\n",
      "                     't1_ivcb67y': Comment(id='ivcb67y'),\n",
      "                     't1_ivcbesx': Comment(id='ivcbesx'),\n",
      "                     't1_ivcbkii': Comment(id='ivcbkii'),\n",
      "                     't1_ivcbl29': Comment(id='ivcbl29'),\n",
      "                     't1_ivcbls0': Comment(id='ivcbls0'),\n",
      "                     't1_ivcbogx': Comment(id='ivcbogx'),\n",
      "                     't1_ivcbtk3': Comment(id='ivcbtk3'),\n",
      "                     't1_ivcc069': Comment(id='ivcc069'),\n",
      "                     't1_ivcco95': Comment(id='ivcco95'),\n",
      "                     't1_ivccpos': Comment(id='ivccpos'),\n",
      "                     't1_ivccqcq': Comment(id='ivccqcq'),\n",
      "                     't1_ivccwtu': Comment(id='ivccwtu'),\n",
      "                     't1_ivcd140': Comment(id='ivcd140'),\n",
      "                     't1_ivcd3v1': Comment(id='ivcd3v1'),\n",
      "                     't1_ivcd5yj': Comment(id='ivcd5yj'),\n",
      "                     't1_ivcd738': Comment(id='ivcd738'),\n",
      "                     't1_ivcd79w': Comment(id='ivcd79w'),\n",
      "                     't1_ivcdbfm': Comment(id='ivcdbfm'),\n",
      "                     't1_ivcdd4j': Comment(id='ivcdd4j'),\n",
      "                     't1_ivcddxm': Comment(id='ivcddxm'),\n",
      "                     't1_ivcdgc4': Comment(id='ivcdgc4'),\n",
      "                     't1_ivcdjk7': Comment(id='ivcdjk7'),\n",
      "                     't1_ivcdn5q': Comment(id='ivcdn5q'),\n",
      "                     't1_ivcdo0g': Comment(id='ivcdo0g'),\n",
      "                     't1_ivcdpgi': Comment(id='ivcdpgi'),\n",
      "                     't1_ivcdpza': Comment(id='ivcdpza'),\n",
      "                     't1_ivcdsvp': Comment(id='ivcdsvp'),\n",
      "                     't1_ivcdtp3': Comment(id='ivcdtp3'),\n",
      "                     't1_ivcdtpp': Comment(id='ivcdtpp'),\n",
      "                     't1_ivcdts7': Comment(id='ivcdts7'),\n",
      "                     't1_ivcdvws': Comment(id='ivcdvws'),\n",
      "                     't1_ivcdwb6': Comment(id='ivcdwb6'),\n",
      "                     't1_ivcdz2z': Comment(id='ivcdz2z'),\n",
      "                     't1_ivcdzqg': Comment(id='ivcdzqg'),\n",
      "                     't1_ivce4cx': Comment(id='ivce4cx'),\n",
      "                     't1_ivcfhkx': Comment(id='ivcfhkx'),\n",
      "                     't1_ivcfldl': Comment(id='ivcfldl'),\n",
      "                     't1_ivcfmqr': Comment(id='ivcfmqr'),\n",
      "                     't1_ivcg3pd': Comment(id='ivcg3pd'),\n",
      "                     't1_ivcg3u6': Comment(id='ivcg3u6'),\n",
      "                     't1_ivcg691': Comment(id='ivcg691'),\n",
      "                     't1_ivcg91y': Comment(id='ivcg91y'),\n",
      "                     't1_ivcgai4': Comment(id='ivcgai4'),\n",
      "                     't1_ivcgkra': Comment(id='ivcgkra'),\n",
      "                     't1_ivcgkuf': Comment(id='ivcgkuf'),\n",
      "                     't1_ivcgqwu': Comment(id='ivcgqwu'),\n",
      "                     't1_ivcgy61': Comment(id='ivcgy61'),\n",
      "                     't1_ivch1b0': Comment(id='ivch1b0'),\n",
      "                     't1_ivch4ar': Comment(id='ivch4ar'),\n",
      "                     't1_ivchaw7': Comment(id='ivchaw7'),\n",
      "                     't1_ivchcfo': Comment(id='ivchcfo'),\n",
      "                     't1_ivchgky': Comment(id='ivchgky'),\n",
      "                     't1_ivchspy': Comment(id='ivchspy'),\n",
      "                     't1_ivci0v4': Comment(id='ivci0v4'),\n",
      "                     't1_ivcii19': Comment(id='ivcii19'),\n",
      "                     't1_ivcik1h': Comment(id='ivcik1h'),\n",
      "                     't1_ivcim0z': Comment(id='ivcim0z'),\n",
      "                     't1_ivcinab': Comment(id='ivcinab'),\n",
      "                     't1_ivciq5t': Comment(id='ivciq5t'),\n",
      "                     't1_ivcirz8': Comment(id='ivcirz8'),\n",
      "                     't1_ivciv73': Comment(id='ivciv73'),\n",
      "                     't1_ivciz08': Comment(id='ivciz08'),\n",
      "                     't1_ivcizcg': Comment(id='ivcizcg'),\n",
      "                     't1_ivcj31c': Comment(id='ivcj31c'),\n",
      "                     't1_ivcj73t': Comment(id='ivcj73t'),\n",
      "                     't1_ivcjhx6': Comment(id='ivcjhx6'),\n",
      "                     't1_ivcjk3k': Comment(id='ivcjk3k'),\n",
      "                     't1_ivcjm4w': Comment(id='ivcjm4w'),\n",
      "                     't1_ivcjsq3': Comment(id='ivcjsq3'),\n",
      "                     't1_ivcjx14': Comment(id='ivcjx14'),\n",
      "                     't1_ivck16h': Comment(id='ivck16h'),\n",
      "                     't1_ivckcx1': Comment(id='ivckcx1'),\n",
      "                     't1_ivckekt': Comment(id='ivckekt'),\n",
      "                     't1_ivckff7': Comment(id='ivckff7'),\n",
      "                     't1_ivckgt8': Comment(id='ivckgt8'),\n",
      "                     't1_ivckj9b': Comment(id='ivckj9b'),\n",
      "                     't1_ivckmux': Comment(id='ivckmux'),\n",
      "                     't1_ivckobp': Comment(id='ivckobp'),\n",
      "                     't1_ivckp68': Comment(id='ivckp68'),\n",
      "                     't1_ivckvgs': Comment(id='ivckvgs'),\n",
      "                     't1_ivcl086': Comment(id='ivcl086'),\n",
      "                     't1_ivcl4lz': Comment(id='ivcl4lz'),\n",
      "                     't1_ivcl6el': Comment(id='ivcl6el'),\n",
      "                     't1_ivclt8s': Comment(id='ivclt8s'),\n",
      "                     't1_ivclts0': Comment(id='ivclts0'),\n",
      "                     't1_ivclxnc': Comment(id='ivclxnc'),\n",
      "                     't1_ivcm1be': Comment(id='ivcm1be'),\n",
      "                     't1_ivcm1vx': Comment(id='ivcm1vx'),\n",
      "                     't1_ivcm2gq': Comment(id='ivcm2gq'),\n",
      "                     't1_ivcm6cm': Comment(id='ivcm6cm'),\n",
      "                     't1_ivcmb9u': Comment(id='ivcmb9u'),\n",
      "                     't1_ivcmdzz': Comment(id='ivcmdzz'),\n",
      "                     't1_ivcmg5c': Comment(id='ivcmg5c'),\n",
      "                     't1_ivcmgui': Comment(id='ivcmgui'),\n",
      "                     't1_ivcmjsm': Comment(id='ivcmjsm'),\n",
      "                     't1_ivcmn5e': Comment(id='ivcmn5e'),\n",
      "                     't1_ivcmsd1': Comment(id='ivcmsd1'),\n",
      "                     't1_ivcmt8x': Comment(id='ivcmt8x'),\n",
      "                     't1_ivcmzm2': Comment(id='ivcmzm2'),\n",
      "                     't1_ivcn2qq': Comment(id='ivcn2qq'),\n",
      "                     't1_ivcn3mc': Comment(id='ivcn3mc'),\n",
      "                     't1_ivcn8t6': Comment(id='ivcn8t6'),\n",
      "                     't1_ivcndb9': Comment(id='ivcndb9'),\n",
      "                     't1_ivcnj1f': Comment(id='ivcnj1f'),\n",
      "                     't1_ivcns03': Comment(id='ivcns03'),\n",
      "                     't1_ivcns4d': Comment(id='ivcns4d'),\n",
      "                     't1_ivcns5e': Comment(id='ivcns5e'),\n",
      "                     't1_ivco2sn': Comment(id='ivco2sn'),\n",
      "                     't1_ivcoket': Comment(id='ivcoket'),\n",
      "                     't1_ivcon6x': Comment(id='ivcon6x'),\n",
      "                     't1_ivcoqsq': Comment(id='ivcoqsq'),\n",
      "                     't1_ivcow24': Comment(id='ivcow24'),\n",
      "                     't1_ivcozt9': Comment(id='ivcozt9'),\n",
      "                     't1_ivcp431': Comment(id='ivcp431'),\n",
      "                     't1_ivcp7qm': Comment(id='ivcp7qm'),\n",
      "                     't1_ivcp9gy': Comment(id='ivcp9gy'),\n",
      "                     't1_ivcpbr7': Comment(id='ivcpbr7'),\n",
      "                     't1_ivcppg4': Comment(id='ivcppg4'),\n",
      "                     't1_ivcppun': Comment(id='ivcppun'),\n",
      "                     't1_ivcpq4m': Comment(id='ivcpq4m'),\n",
      "                     't1_ivcpsw6': Comment(id='ivcpsw6'),\n",
      "                     't1_ivcptuu': Comment(id='ivcptuu'),\n",
      "                     't1_ivcpxtx': Comment(id='ivcpxtx'),\n",
      "                     't1_ivcq0rg': Comment(id='ivcq0rg'),\n",
      "                     't1_ivcq2jw': Comment(id='ivcq2jw'),\n",
      "                     't1_ivcq3ky': Comment(id='ivcq3ky'),\n",
      "                     't1_ivcq93k': Comment(id='ivcq93k'),\n",
      "                     't1_ivcqaa4': Comment(id='ivcqaa4'),\n",
      "                     't1_ivcqb54': Comment(id='ivcqb54'),\n",
      "                     't1_ivcqi26': Comment(id='ivcqi26'),\n",
      "                     't1_ivcqsxs': Comment(id='ivcqsxs'),\n",
      "                     't1_ivcqz7p': Comment(id='ivcqz7p'),\n",
      "                     't1_ivcrzi2': Comment(id='ivcrzi2'),\n",
      "                     't1_ivcs646': Comment(id='ivcs646'),\n",
      "                     't1_ivcskv7': Comment(id='ivcskv7'),\n",
      "                     't1_ivcsm4k': Comment(id='ivcsm4k'),\n",
      "                     't1_ivct1ig': Comment(id='ivct1ig'),\n",
      "                     't1_ivct5i7': Comment(id='ivct5i7'),\n",
      "                     't1_ivcte2l': Comment(id='ivcte2l'),\n",
      "                     't1_ivctfrh': Comment(id='ivctfrh'),\n",
      "                     't1_ivcthas': Comment(id='ivcthas'),\n",
      "                     't1_ivctl3y': Comment(id='ivctl3y'),\n",
      "                     't1_ivctnq2': Comment(id='ivctnq2'),\n",
      "                     't1_ivctqlu': Comment(id='ivctqlu'),\n",
      "                     't1_ivctqqb': Comment(id='ivctqqb'),\n",
      "                     't1_ivctvfp': Comment(id='ivctvfp'),\n",
      "                     't1_ivcu8pa': Comment(id='ivcu8pa'),\n",
      "                     't1_ivcuc60': Comment(id='ivcuc60'),\n",
      "                     't1_ivcuug0': Comment(id='ivcuug0'),\n",
      "                     't1_ivcv2jh': Comment(id='ivcv2jh'),\n",
      "                     't1_ivcveub': Comment(id='ivcveub'),\n",
      "                     't1_ivcvg7d': Comment(id='ivcvg7d'),\n",
      "                     't1_ivcvhga': Comment(id='ivcvhga'),\n",
      "                     't1_ivcvulm': Comment(id='ivcvulm'),\n",
      "                     't1_ivcvw9a': Comment(id='ivcvw9a'),\n",
      "                     't1_ivcvyak': Comment(id='ivcvyak'),\n",
      "                     't1_ivcwbkb': Comment(id='ivcwbkb'),\n",
      "                     't1_ivcwlpc': Comment(id='ivcwlpc'),\n",
      "                     't1_ivcwsnq': Comment(id='ivcwsnq'),\n",
      "                     't1_ivcwte8': Comment(id='ivcwte8'),\n",
      "                     't1_ivcxcds': Comment(id='ivcxcds'),\n",
      "                     't1_ivcxrfg': Comment(id='ivcxrfg'),\n",
      "                     't1_ivcy3cg': Comment(id='ivcy3cg'),\n",
      "                     't1_ivcy3mf': Comment(id='ivcy3mf'),\n",
      "                     't1_ivcy3o2': Comment(id='ivcy3o2'),\n",
      "                     't1_ivcy8th': Comment(id='ivcy8th'),\n",
      "                     't1_ivcyepg': Comment(id='ivcyepg'),\n",
      "                     't1_ivcz9fi': Comment(id='ivcz9fi'),\n",
      "                     't1_ivczffk': Comment(id='ivczffk'),\n",
      "                     't1_ivczm2v': Comment(id='ivczm2v'),\n",
      "                     't1_ivczpi9': Comment(id='ivczpi9'),\n",
      "                     't1_ivd05r8': Comment(id='ivd05r8'),\n",
      "                     't1_ivd089i': Comment(id='ivd089i'),\n",
      "                     't1_ivd0dec': Comment(id='ivd0dec'),\n",
      "                     't1_ivd0fr3': Comment(id='ivd0fr3'),\n",
      "                     't1_ivd1v0o': Comment(id='ivd1v0o'),\n",
      "                     't1_ivd282i': Comment(id='ivd282i'),\n",
      "                     't1_ivd2k71': Comment(id='ivd2k71'),\n",
      "                     't1_ivd2o9g': Comment(id='ivd2o9g'),\n",
      "                     't1_ivd2utx': Comment(id='ivd2utx'),\n",
      "                     't1_ivd2z1i': Comment(id='ivd2z1i'),\n",
      "                     't1_ivd38pe': Comment(id='ivd38pe'),\n",
      "                     't1_ivd3lm3': Comment(id='ivd3lm3'),\n",
      "                     't1_ivd3mxp': Comment(id='ivd3mxp'),\n",
      "                     't1_ivd3pc8': Comment(id='ivd3pc8'),\n",
      "                     't1_ivd3pd9': Comment(id='ivd3pd9'),\n",
      "                     't1_ivd3t58': Comment(id='ivd3t58'),\n",
      "                     't1_ivd3u8y': Comment(id='ivd3u8y'),\n",
      "                     't1_ivd4rqr': Comment(id='ivd4rqr'),\n",
      "                     't1_ivd5qbd': Comment(id='ivd5qbd'),\n",
      "                     't1_ivd6ube': Comment(id='ivd6ube'),\n",
      "                     't1_ivd72uc': Comment(id='ivd72uc'),\n",
      "                     't1_ivd7zj5': Comment(id='ivd7zj5'),\n",
      "                     't1_ivd8p8m': Comment(id='ivd8p8m'),\n",
      "                     't1_ivd90bg': Comment(id='ivd90bg'),\n",
      "                     't1_ivd9ejl': Comment(id='ivd9ejl'),\n",
      "                     't1_ivd9fk0': Comment(id='ivd9fk0'),\n",
      "                     't1_ivd9rri': Comment(id='ivd9rri'),\n",
      "                     't1_ivda45o': Comment(id='ivda45o'),\n",
      "                     't1_ivdaaix': Comment(id='ivdaaix'),\n",
      "                     't1_ivdaawm': Comment(id='ivdaawm'),\n",
      "                     't1_ivdakt3': Comment(id='ivdakt3'),\n",
      "                     't1_ivdapz3': Comment(id='ivdapz3'),\n",
      "                     't1_ivdaszq': Comment(id='ivdaszq'),\n",
      "                     't1_ivdb8ic': Comment(id='ivdb8ic'),\n",
      "                     't1_ivdbcub': Comment(id='ivdbcub'),\n",
      "                     't1_ivdbf90': Comment(id='ivdbf90'),\n",
      "                     't1_ivdbgo3': Comment(id='ivdbgo3'),\n",
      "                     't1_ivdcgdr': Comment(id='ivdcgdr'),\n",
      "                     't1_ivdcio7': Comment(id='ivdcio7'),\n",
      "                     't1_ivdd23x': Comment(id='ivdd23x'),\n",
      "                     't1_ivddn83': Comment(id='ivddn83'),\n",
      "                     't1_ivddp12': Comment(id='ivddp12'),\n",
      "                     't1_ivddrq8': Comment(id='ivddrq8'),\n",
      "                     't1_ivdf9db': Comment(id='ivdf9db'),\n",
      "                     't1_ivdfqwh': Comment(id='ivdfqwh'),\n",
      "                     't1_ivdgzb9': Comment(id='ivdgzb9'),\n",
      "                     't1_ivdhd46': Comment(id='ivdhd46'),\n",
      "                     't1_ivdhpwf': Comment(id='ivdhpwf'),\n",
      "                     't1_ivdi44i': Comment(id='ivdi44i'),\n",
      "                     't1_ivdj40x': Comment(id='ivdj40x'),\n",
      "                     't1_ivdjvgw': Comment(id='ivdjvgw'),\n",
      "                     't1_ivdjw5s': Comment(id='ivdjw5s'),\n",
      "                     't1_ivdmkyf': Comment(id='ivdmkyf'),\n",
      "                     't1_ivdmooj': Comment(id='ivdmooj'),\n",
      "                     't1_ivdo6ul': Comment(id='ivdo6ul'),\n",
      "                     't1_ivdqec3': Comment(id='ivdqec3'),\n",
      "                     't1_ivdquhi': Comment(id='ivdquhi'),\n",
      "                     't1_ivdry3a': Comment(id='ivdry3a'),\n",
      "                     't1_ivds3w9': Comment(id='ivds3w9'),\n",
      "                     't1_ivdsr4b': Comment(id='ivdsr4b'),\n",
      "                     't1_ivdstre': Comment(id='ivdstre'),\n",
      "                     't1_ivdu9in': Comment(id='ivdu9in'),\n",
      "                     't1_ivdueej': Comment(id='ivdueej'),\n",
      "                     't1_ivdva6c': Comment(id='ivdva6c'),\n",
      "                     't1_ivdw2sd': Comment(id='ivdw2sd'),\n",
      "                     't1_ivdw7ic': Comment(id='ivdw7ic'),\n",
      "                     't1_ivdwje0': Comment(id='ivdwje0'),\n",
      "                     't1_ivdwrci': Comment(id='ivdwrci'),\n",
      "                     't1_ivdxg34': Comment(id='ivdxg34'),\n",
      "                     't1_ivdzcxg': Comment(id='ivdzcxg'),\n",
      "                     't1_ivdzjuc': Comment(id='ivdzjuc'),\n",
      "                     't1_ive09kq': Comment(id='ive09kq'),\n",
      "                     't1_ive1jxs': Comment(id='ive1jxs'),\n",
      "                     't1_ive284y': Comment(id='ive284y'),\n",
      "                     't1_ive35sg': Comment(id='ive35sg'),\n",
      "                     't1_ive3ahx': Comment(id='ive3ahx'),\n",
      "                     't1_ive7ew7': Comment(id='ive7ew7'),\n",
      "                     't1_ive7gs0': Comment(id='ive7gs0'),\n",
      "                     't1_ive8omw': Comment(id='ive8omw'),\n",
      "                     't1_ive9m5w': Comment(id='ive9m5w'),\n",
      "                     't1_ivepztg': Comment(id='ivepztg'),\n",
      "                     't1_iveqvju': Comment(id='iveqvju'),\n",
      "                     't1_ives06r': Comment(id='ives06r'),\n",
      "                     't1_ivevkzg': Comment(id='ivevkzg'),\n",
      "                     't1_iveycir': Comment(id='iveycir'),\n",
      "                     't1_ivf0qq7': Comment(id='ivf0qq7'),\n",
      "                     't1_ivf1wjl': Comment(id='ivf1wjl'),\n",
      "                     't1_ivf8bdl': Comment(id='ivf8bdl')},\n",
      " '_fetched': True,\n",
      " '_reddit': <praw.reddit.Reddit object at 0x7f0a1a75c0a0>,\n",
      " 'all_awardings': [{'award_sub_type': 'GLOBAL',\n",
      "                    'award_type': 'global',\n",
      "                    'awardings_required_to_grant_benefits': None,\n",
      "                    'coin_price': 100,\n",
      "                    'coin_reward': 0,\n",
      "                    'count': 3,\n",
      "                    'days_of_drip_extension': None,\n",
      "                    'days_of_premium': None,\n",
      "                    'description': \"Shows the Silver Award... and that's it.\",\n",
      "                    'end_date': None,\n",
      "                    'giver_coin_reward': None,\n",
      "                    'icon_format': None,\n",
      "                    'icon_height': 512,\n",
      "                    'icon_url': 'https://www.redditstatic.com/gold/awards/icon/silver_512.png',\n",
      "                    'icon_width': 512,\n",
      "                    'id': 'gid_1',\n",
      "                    'is_enabled': True,\n",
      "                    'is_new': False,\n",
      "                    'name': 'Silver',\n",
      "                    'penny_donate': None,\n",
      "                    'penny_price': None,\n",
      "                    'resized_icons': [{'height': 16,\n",
      "                                       'url': 'https://www.redditstatic.com/gold/awards/icon/silver_16.png',\n",
      "                                       'width': 16},\n",
      "                                      {'height': 32,\n",
      "                                       'url': 'https://www.redditstatic.com/gold/awards/icon/silver_32.png',\n",
      "                                       'width': 32},\n",
      "                                      {'height': 48,\n",
      "                                       'url': 'https://www.redditstatic.com/gold/awards/icon/silver_48.png',\n",
      "                                       'width': 48},\n",
      "                                      {'height': 64,\n",
      "                                       'url': 'https://www.redditstatic.com/gold/awards/icon/silver_64.png',\n",
      "                                       'width': 64},\n",
      "                                      {'height': 128,\n",
      "                                       'url': 'https://www.redditstatic.com/gold/awards/icon/silver_128.png',\n",
      "                                       'width': 128}],\n",
      "                    'resized_static_icons': [{'height': 16,\n",
      "                                              'url': 'https://www.redditstatic.com/gold/awards/icon/silver_16.png',\n",
      "                                              'width': 16},\n",
      "                                             {'height': 32,\n",
      "                                              'url': 'https://www.redditstatic.com/gold/awards/icon/silver_32.png',\n",
      "                                              'width': 32},\n",
      "                                             {'height': 48,\n",
      "                                              'url': 'https://www.redditstatic.com/gold/awards/icon/silver_48.png',\n",
      "                                              'width': 48},\n",
      "                                             {'height': 64,\n",
      "                                              'url': 'https://www.redditstatic.com/gold/awards/icon/silver_64.png',\n",
      "                                              'width': 64},\n",
      "                                             {'height': 128,\n",
      "                                              'url': 'https://www.redditstatic.com/gold/awards/icon/silver_128.png',\n",
      "                                              'width': 128}],\n",
      "                    'start_date': None,\n",
      "                    'static_icon_height': 512,\n",
      "                    'static_icon_url': 'https://www.redditstatic.com/gold/awards/icon/silver_512.png',\n",
      "                    'static_icon_width': 512,\n",
      "                    'sticky_duration_seconds': None,\n",
      "                    'subreddit_coin_reward': 0,\n",
      "                    'subreddit_id': None,\n",
      "                    'tiers_by_required_awardings': None},\n",
      "                   {'award_sub_type': 'GLOBAL',\n",
      "                    'award_type': 'global',\n",
      "                    'awardings_required_to_grant_benefits': None,\n",
      "                    'coin_price': 150,\n",
      "                    'coin_reward': 0,\n",
      "                    'count': 1,\n",
      "                    'days_of_drip_extension': None,\n",
      "                    'days_of_premium': None,\n",
      "                    'description': 'Thank you stranger. Shows the award.',\n",
      "                    'end_date': None,\n",
      "                    'giver_coin_reward': None,\n",
      "                    'icon_format': None,\n",
      "                    'icon_height': 2048,\n",
      "                    'icon_url': 'https://i.redd.it/award_images/t5_22cerq/klvxk1wggfd41_Helpful.png',\n",
      "                    'icon_width': 2048,\n",
      "                    'id': 'award_f44611f1-b89e-46dc-97fe-892280b13b82',\n",
      "                    'is_enabled': True,\n",
      "                    'is_new': False,\n",
      "                    'name': 'Helpful',\n",
      "                    'penny_donate': None,\n",
      "                    'penny_price': None,\n",
      "                    'resized_icons': [{'height': 16,\n",
      "                                       'url': 'https://preview.redd.it/award_images/t5_22cerq/klvxk1wggfd41_Helpful.png?width=16&height=16&auto=webp&s=a5662dfbdb402bf67866c050aa76c31c147c2f45',\n",
      "                                       'width': 16},\n",
      "                                      {'height': 32,\n",
      "                                       'url': 'https://preview.redd.it/award_images/t5_22cerq/klvxk1wggfd41_Helpful.png?width=32&height=32&auto=webp&s=a6882eb3f380e8e88009789f4d0072e17b8c59f1',\n",
      "                                       'width': 32},\n",
      "                                      {'height': 48,\n",
      "                                       'url': 'https://preview.redd.it/award_images/t5_22cerq/klvxk1wggfd41_Helpful.png?width=48&height=48&auto=webp&s=e50064b090879e8a0b55e433f6ee61d5cb5fbe1d',\n",
      "                                       'width': 48},\n",
      "                                      {'height': 64,\n",
      "                                       'url': 'https://preview.redd.it/award_images/t5_22cerq/klvxk1wggfd41_Helpful.png?width=64&height=64&auto=webp&s=8e5bb2e76683cb6b161830bcdd9642049d6adc11',\n",
      "                                       'width': 64},\n",
      "                                      {'height': 128,\n",
      "                                       'url': 'https://preview.redd.it/award_images/t5_22cerq/klvxk1wggfd41_Helpful.png?width=128&height=128&auto=webp&s=eda4a9246f95f42ee6940cc0ec65306fd20de878',\n",
      "                                       'width': 128}],\n",
      "                    'resized_static_icons': [{'height': 16,\n",
      "                                              'url': 'https://preview.redd.it/award_images/t5_22cerq/klvxk1wggfd41_Helpful.png?width=16&height=16&auto=webp&s=a5662dfbdb402bf67866c050aa76c31c147c2f45',\n",
      "                                              'width': 16},\n",
      "                                             {'height': 32,\n",
      "                                              'url': 'https://preview.redd.it/award_images/t5_22cerq/klvxk1wggfd41_Helpful.png?width=32&height=32&auto=webp&s=a6882eb3f380e8e88009789f4d0072e17b8c59f1',\n",
      "                                              'width': 32},\n",
      "                                             {'height': 48,\n",
      "                                              'url': 'https://preview.redd.it/award_images/t5_22cerq/klvxk1wggfd41_Helpful.png?width=48&height=48&auto=webp&s=e50064b090879e8a0b55e433f6ee61d5cb5fbe1d',\n",
      "                                              'width': 48},\n",
      "                                             {'height': 64,\n",
      "                                              'url': 'https://preview.redd.it/award_images/t5_22cerq/klvxk1wggfd41_Helpful.png?width=64&height=64&auto=webp&s=8e5bb2e76683cb6b161830bcdd9642049d6adc11',\n",
      "                                              'width': 64},\n",
      "                                             {'height': 128,\n",
      "                                              'url': 'https://preview.redd.it/award_images/t5_22cerq/klvxk1wggfd41_Helpful.png?width=128&height=128&auto=webp&s=eda4a9246f95f42ee6940cc0ec65306fd20de878',\n",
      "                                              'width': 128}],\n",
      "                    'start_date': None,\n",
      "                    'static_icon_height': 2048,\n",
      "                    'static_icon_url': 'https://i.redd.it/award_images/t5_22cerq/klvxk1wggfd41_Helpful.png',\n",
      "                    'static_icon_width': 2048,\n",
      "                    'sticky_duration_seconds': None,\n",
      "                    'subreddit_coin_reward': 0,\n",
      "                    'subreddit_id': None,\n",
      "                    'tiers_by_required_awardings': None},\n",
      "                   {'award_sub_type': 'GLOBAL',\n",
      "                    'award_type': 'global',\n",
      "                    'awardings_required_to_grant_benefits': None,\n",
      "                    'coin_price': 125,\n",
      "                    'coin_reward': 0,\n",
      "                    'count': 1,\n",
      "                    'days_of_drip_extension': None,\n",
      "                    'days_of_premium': None,\n",
      "                    'description': 'When you come across a feel-good thing.',\n",
      "                    'end_date': None,\n",
      "                    'giver_coin_reward': None,\n",
      "                    'icon_format': None,\n",
      "                    'icon_height': 2048,\n",
      "                    'icon_url': 'https://i.redd.it/award_images/t5_22cerq/5izbv4fn0md41_Wholesome.png',\n",
      "                    'icon_width': 2048,\n",
      "                    'id': 'award_5f123e3d-4f48-42f4-9c11-e98b566d5897',\n",
      "                    'is_enabled': True,\n",
      "                    'is_new': False,\n",
      "                    'name': 'Wholesome',\n",
      "                    'penny_donate': None,\n",
      "                    'penny_price': None,\n",
      "                    'resized_icons': [{'height': 16,\n",
      "                                       'url': 'https://preview.redd.it/award_images/t5_22cerq/5izbv4fn0md41_Wholesome.png?width=16&height=16&auto=webp&s=92932f465d58e4c16b12b6eac4ca07d27e3d11c0',\n",
      "                                       'width': 16},\n",
      "                                      {'height': 32,\n",
      "                                       'url': 'https://preview.redd.it/award_images/t5_22cerq/5izbv4fn0md41_Wholesome.png?width=32&height=32&auto=webp&s=d11484a208d68a318bf9d4fcf371171a1cb6a7ef',\n",
      "                                       'width': 32},\n",
      "                                      {'height': 48,\n",
      "                                       'url': 'https://preview.redd.it/award_images/t5_22cerq/5izbv4fn0md41_Wholesome.png?width=48&height=48&auto=webp&s=febdf28b6f39f7da7eb1365325b85e0bb49a9f63',\n",
      "                                       'width': 48},\n",
      "                                      {'height': 64,\n",
      "                                       'url': 'https://preview.redd.it/award_images/t5_22cerq/5izbv4fn0md41_Wholesome.png?width=64&height=64&auto=webp&s=b4406a2d88bf86fa3dc8a45aacf7e0c7bdccc4fb',\n",
      "                                       'width': 64},\n",
      "                                      {'height': 128,\n",
      "                                       'url': 'https://preview.redd.it/award_images/t5_22cerq/5izbv4fn0md41_Wholesome.png?width=128&height=128&auto=webp&s=19555b13e3e196b62eeb9160d1ac1d1b372dcb0b',\n",
      "                                       'width': 128}],\n",
      "                    'resized_static_icons': [{'height': 16,\n",
      "                                              'url': 'https://preview.redd.it/award_images/t5_22cerq/5izbv4fn0md41_Wholesome.png?width=16&height=16&auto=webp&s=92932f465d58e4c16b12b6eac4ca07d27e3d11c0',\n",
      "                                              'width': 16},\n",
      "                                             {'height': 32,\n",
      "                                              'url': 'https://preview.redd.it/award_images/t5_22cerq/5izbv4fn0md41_Wholesome.png?width=32&height=32&auto=webp&s=d11484a208d68a318bf9d4fcf371171a1cb6a7ef',\n",
      "                                              'width': 32},\n",
      "                                             {'height': 48,\n",
      "                                              'url': 'https://preview.redd.it/award_images/t5_22cerq/5izbv4fn0md41_Wholesome.png?width=48&height=48&auto=webp&s=febdf28b6f39f7da7eb1365325b85e0bb49a9f63',\n",
      "                                              'width': 48},\n",
      "                                             {'height': 64,\n",
      "                                              'url': 'https://preview.redd.it/award_images/t5_22cerq/5izbv4fn0md41_Wholesome.png?width=64&height=64&auto=webp&s=b4406a2d88bf86fa3dc8a45aacf7e0c7bdccc4fb',\n",
      "                                              'width': 64},\n",
      "                                             {'height': 128,\n",
      "                                              'url': 'https://preview.redd.it/award_images/t5_22cerq/5izbv4fn0md41_Wholesome.png?width=128&height=128&auto=webp&s=19555b13e3e196b62eeb9160d1ac1d1b372dcb0b',\n",
      "                                              'width': 128}],\n",
      "                    'start_date': None,\n",
      "                    'static_icon_height': 2048,\n",
      "                    'static_icon_url': 'https://i.redd.it/award_images/t5_22cerq/5izbv4fn0md41_Wholesome.png',\n",
      "                    'static_icon_width': 2048,\n",
      "                    'sticky_duration_seconds': None,\n",
      "                    'subreddit_coin_reward': 0,\n",
      "                    'subreddit_id': None,\n",
      "                    'tiers_by_required_awardings': None},\n",
      "                   {'award_sub_type': 'PREMIUM',\n",
      "                    'award_type': 'global',\n",
      "                    'awardings_required_to_grant_benefits': None,\n",
      "                    'coin_price': 30,\n",
      "                    'coin_reward': 0,\n",
      "                    'count': 1,\n",
      "                    'days_of_drip_extension': None,\n",
      "                    'days_of_premium': None,\n",
      "                    'description': 'A glowing commendation for all to see',\n",
      "                    'end_date': None,\n",
      "                    'giver_coin_reward': None,\n",
      "                    'icon_format': 'APNG',\n",
      "                    'icon_height': 2048,\n",
      "                    'icon_url': 'https://www.redditstatic.com/gold/awards/icon/Illuminati_512.png',\n",
      "                    'icon_width': 2048,\n",
      "                    'id': 'award_b4ff447e-05a5-42dc-9002-63568807cfe6',\n",
      "                    'is_enabled': True,\n",
      "                    'is_new': False,\n",
      "                    'name': 'All-Seeing Upvote',\n",
      "                    'penny_donate': None,\n",
      "                    'penny_price': None,\n",
      "                    'resized_icons': [{'height': 16,\n",
      "                                       'url': 'https://www.redditstatic.com/gold/awards/icon/Illuminati_16.png',\n",
      "                                       'width': 16},\n",
      "                                      {'height': 32,\n",
      "                                       'url': 'https://www.redditstatic.com/gold/awards/icon/Illuminati_32.png',\n",
      "                                       'width': 32},\n",
      "                                      {'height': 48,\n",
      "                                       'url': 'https://www.redditstatic.com/gold/awards/icon/Illuminati_48.png',\n",
      "                                       'width': 48},\n",
      "                                      {'height': 64,\n",
      "                                       'url': 'https://www.redditstatic.com/gold/awards/icon/Illuminati_64.png',\n",
      "                                       'width': 64},\n",
      "                                      {'height': 128,\n",
      "                                       'url': 'https://www.redditstatic.com/gold/awards/icon/Illuminati_128.png',\n",
      "                                       'width': 128}],\n",
      "                    'resized_static_icons': [{'height': 16,\n",
      "                                              'url': 'https://preview.redd.it/award_images/t5_q0gj4/am40b8b08l581_All-SeeingUpvote2.png?width=16&height=16&auto=webp&s=978c93744e53b8c9305467a7be792e5c401eac6c',\n",
      "                                              'width': 16},\n",
      "                                             {'height': 32,\n",
      "                                              'url': 'https://preview.redd.it/award_images/t5_q0gj4/am40b8b08l581_All-SeeingUpvote2.png?width=32&height=32&auto=webp&s=d2ee343eef5048ad3add75d4a4d4e3922bb9565a',\n",
      "                                              'width': 32},\n",
      "                                             {'height': 48,\n",
      "                                              'url': 'https://preview.redd.it/award_images/t5_q0gj4/am40b8b08l581_All-SeeingUpvote2.png?width=48&height=48&auto=webp&s=7d216fd3a05c61d9fb75b27092844c546d958f14',\n",
      "                                              'width': 48},\n",
      "                                             {'height': 64,\n",
      "                                              'url': 'https://preview.redd.it/award_images/t5_q0gj4/am40b8b08l581_All-SeeingUpvote2.png?width=64&height=64&auto=webp&s=b76693f84fd19b04d0c0444a9812d812105e2d8f',\n",
      "                                              'width': 64},\n",
      "                                             {'height': 128,\n",
      "                                              'url': 'https://preview.redd.it/award_images/t5_q0gj4/am40b8b08l581_All-SeeingUpvote2.png?width=128&height=128&auto=webp&s=5353352ae9f443c353ef0b7725dabcfc1b3829a5',\n",
      "                                              'width': 128}],\n",
      "                    'start_date': None,\n",
      "                    'static_icon_height': 2048,\n",
      "                    'static_icon_url': 'https://i.redd.it/award_images/t5_q0gj4/am40b8b08l581_All-SeeingUpvote2.png',\n",
      "                    'static_icon_width': 2048,\n",
      "                    'sticky_duration_seconds': None,\n",
      "                    'subreddit_coin_reward': 0,\n",
      "                    'subreddit_id': None,\n",
      "                    'tiers_by_required_awardings': None},\n",
      "                   {'award_sub_type': 'GLOBAL',\n",
      "                    'award_type': 'global',\n",
      "                    'awardings_required_to_grant_benefits': None,\n",
      "                    'coin_price': 500,\n",
      "                    'coin_reward': 100,\n",
      "                    'count': 1,\n",
      "                    'days_of_drip_extension': None,\n",
      "                    'days_of_premium': None,\n",
      "                    'description': 'When you come across a feel-good thing. '\n",
      "                                   'Gives %{coin_symbol}100 Coins to both the '\n",
      "                                   'author and the community.',\n",
      "                    'end_date': None,\n",
      "                    'giver_coin_reward': None,\n",
      "                    'icon_format': None,\n",
      "                    'icon_height': 2048,\n",
      "                    'icon_url': 'https://i.redd.it/award_images/t5_22cerq/0o2j782f00e41_WholesomeSuperpro.png',\n",
      "                    'icon_width': 2048,\n",
      "                    'id': 'award_1f0462ee-18f5-4f33-89cf-f1f79336a452',\n",
      "                    'is_enabled': True,\n",
      "                    'is_new': False,\n",
      "                    'name': 'Wholesome (Pro)',\n",
      "                    'penny_donate': None,\n",
      "                    'penny_price': None,\n",
      "                    'resized_icons': [{'height': 16,\n",
      "                                       'url': 'https://preview.redd.it/award_images/t5_22cerq/0o2j782f00e41_WholesomeSuperpro.png?width=16&height=16&auto=webp&s=3ca7dc1f4e12ca386a561446e72f772d38ba49d8',\n",
      "                                       'width': 16},\n",
      "                                      {'height': 32,\n",
      "                                       'url': 'https://preview.redd.it/award_images/t5_22cerq/0o2j782f00e41_WholesomeSuperpro.png?width=32&height=32&auto=webp&s=c19d1e661e4aa6a9326a9f0b74b3ebf5d9f7a75e',\n",
      "                                       'width': 32},\n",
      "                                      {'height': 48,\n",
      "                                       'url': 'https://preview.redd.it/award_images/t5_22cerq/0o2j782f00e41_WholesomeSuperpro.png?width=48&height=48&auto=webp&s=ed063580825e72b0ae63fe30c807b453b1362694',\n",
      "                                       'width': 48},\n",
      "                                      {'height': 64,\n",
      "                                       'url': 'https://preview.redd.it/award_images/t5_22cerq/0o2j782f00e41_WholesomeSuperpro.png?width=64&height=64&auto=webp&s=7176b4b72b850e3e052138fe8b3967c4c5b52dae',\n",
      "                                       'width': 64},\n",
      "                                      {'height': 128,\n",
      "                                       'url': 'https://preview.redd.it/award_images/t5_22cerq/0o2j782f00e41_WholesomeSuperpro.png?width=128&height=128&auto=webp&s=f7b307840995777f9ae04699d019740658ba0e77',\n",
      "                                       'width': 128}],\n",
      "                    'resized_static_icons': [{'height': 16,\n",
      "                                              'url': 'https://preview.redd.it/award_images/t5_22cerq/0o2j782f00e41_WholesomeSuperpro.png?width=16&height=16&auto=webp&s=3ca7dc1f4e12ca386a561446e72f772d38ba49d8',\n",
      "                                              'width': 16},\n",
      "                                             {'height': 32,\n",
      "                                              'url': 'https://preview.redd.it/award_images/t5_22cerq/0o2j782f00e41_WholesomeSuperpro.png?width=32&height=32&auto=webp&s=c19d1e661e4aa6a9326a9f0b74b3ebf5d9f7a75e',\n",
      "                                              'width': 32},\n",
      "                                             {'height': 48,\n",
      "                                              'url': 'https://preview.redd.it/award_images/t5_22cerq/0o2j782f00e41_WholesomeSuperpro.png?width=48&height=48&auto=webp&s=ed063580825e72b0ae63fe30c807b453b1362694',\n",
      "                                              'width': 48},\n",
      "                                             {'height': 64,\n",
      "                                              'url': 'https://preview.redd.it/award_images/t5_22cerq/0o2j782f00e41_WholesomeSuperpro.png?width=64&height=64&auto=webp&s=7176b4b72b850e3e052138fe8b3967c4c5b52dae',\n",
      "                                              'width': 64},\n",
      "                                             {'height': 128,\n",
      "                                              'url': 'https://preview.redd.it/award_images/t5_22cerq/0o2j782f00e41_WholesomeSuperpro.png?width=128&height=128&auto=webp&s=f7b307840995777f9ae04699d019740658ba0e77',\n",
      "                                              'width': 128}],\n",
      "                    'start_date': None,\n",
      "                    'static_icon_height': 2048,\n",
      "                    'static_icon_url': 'https://i.redd.it/award_images/t5_22cerq/0o2j782f00e41_WholesomeSuperpro.png',\n",
      "                    'static_icon_width': 2048,\n",
      "                    'sticky_duration_seconds': None,\n",
      "                    'subreddit_coin_reward': 100,\n",
      "                    'subreddit_id': None,\n",
      "                    'tiers_by_required_awardings': None}],\n",
      " 'allow_live_comments': True,\n",
      " 'approved_at_utc': None,\n",
      " 'approved_by': None,\n",
      " 'archived': False,\n",
      " 'author': Redditor(name='keithohara'),\n",
      " 'author_flair_background_color': 'transparent',\n",
      " 'author_flair_css_class': None,\n",
      " 'author_flair_richtext': [{'a': ':Chiefs:',\n",
      "                            'e': 'emoji',\n",
      "                            'u': 'https://emoji.redditmedia.com/97pz8zikttr81_t5_2qmg3/Chiefs'},\n",
      "                           {'e': 'text', 't': ' Chiefs'}],\n",
      " 'author_flair_template_id': 'db77db14-0f93-11eb-a8e0-0ecf334df345',\n",
      " 'author_flair_text': ':Chiefs: Chiefs',\n",
      " 'author_flair_text_color': 'dark',\n",
      " 'author_flair_type': 'richtext',\n",
      " 'author_fullname': 't2_gbzf7q',\n",
      " 'author_is_blocked': False,\n",
      " 'author_patreon_flair': False,\n",
      " 'author_premium': True,\n",
      " 'awarders': [],\n",
      " 'banned_at_utc': None,\n",
      " 'banned_by': None,\n",
      " 'can_gild': False,\n",
      " 'can_mod_post': False,\n",
      " 'category': None,\n",
      " 'clicked': False,\n",
      " 'comment_limit': 2048,\n",
      " 'comment_sort': 'confidence',\n",
      " 'content_categories': None,\n",
      " 'contest_mode': False,\n",
      " 'created': 1667769016.0,\n",
      " 'created_utc': 1667769016.0,\n",
      " 'discussion_type': None,\n",
      " 'distinguished': None,\n",
      " 'domain': 'v.redd.it',\n",
      " 'downs': 0,\n",
      " 'edited': False,\n",
      " 'gilded': 0,\n",
      " 'gildings': {'gid_1': 3},\n",
      " 'hidden': False,\n",
      " 'hide_score': False,\n",
      " 'id': 'yo2w2b',\n",
      " 'is_created_from_ads_ui': False,\n",
      " 'is_crosspostable': False,\n",
      " 'is_meta': False,\n",
      " 'is_original_content': False,\n",
      " 'is_reddit_media_domain': True,\n",
      " 'is_robot_indexable': True,\n",
      " 'is_self': False,\n",
      " 'is_video': True,\n",
      " 'likes': None,\n",
      " 'link_flair_background_color': '',\n",
      " 'link_flair_css_class': 'highlight-thread',\n",
      " 'link_flair_richtext': [{'e': 'text', 't': 'Highlight'}],\n",
      " 'link_flair_text': 'Highlight',\n",
      " 'link_flair_text_color': 'dark',\n",
      " 'link_flair_type': 'richtext',\n",
      " 'locked': False,\n",
      " 'media': {'reddit_video': {'bitrate_kbps': 2400,\n",
      "                            'dash_url': 'https://v.redd.it/g0cogcd0cey91/DASHPlaylist.mpd?a=1670735233%2CMmNhZjE5NjMyYzg5MWFmNmNmODcwOGRlMTc1MjNkMTdlZTM5YjJmZDQ4MzExNDNhMTM5ZDU1MmY3MzY4YzllMQ%3D%3D&v=1&f=sd',\n",
      "                            'duration': 19,\n",
      "                            'fallback_url': 'https://v.redd.it/g0cogcd0cey91/DASH_720.mp4?source=fallback',\n",
      "                            'height': 720,\n",
      "                            'hls_url': 'https://v.redd.it/g0cogcd0cey91/HLSPlaylist.m3u8?a=1670735233%2CNTM5OTViMWQxNjI5NWNiMDM2ZjVlMDFjYzY4MDNlNWI4MTZkYzNhZDU0NTFjYTlhMDRkMzA3MWQzNTRjNjAxZg%3D%3D&v=1&f=sd',\n",
      "                            'is_gif': False,\n",
      "                            'scrubber_media_url': 'https://v.redd.it/g0cogcd0cey91/DASH_96.mp4',\n",
      "                            'transcoding_status': 'completed',\n",
      "                            'width': 1280}},\n",
      " 'media_embed': {},\n",
      " 'media_only': False,\n",
      " 'mod_note': None,\n",
      " 'mod_reason_by': None,\n",
      " 'mod_reason_title': None,\n",
      " 'mod_reports': [],\n",
      " 'name': 't3_yo2w2b',\n",
      " 'no_follow': False,\n",
      " 'num_comments': 1280,\n",
      " 'num_crossposts': 2,\n",
      " 'num_duplicates': 3,\n",
      " 'num_reports': None,\n",
      " 'over_18': False,\n",
      " 'parent_whitelist_status': 'all_ads',\n",
      " 'permalink': '/r/nfl/comments/yo2w2b/highlight_packers_dont_get_the_td_and_lions_win/',\n",
      " 'pinned': False,\n",
      " 'post_hint': 'hosted:video',\n",
      " 'preview': {'enabled': False,\n",
      "             'images': [{'id': 'os0ITuy7OtDYs6Eef7oqg7j8J5eOHv0oSIbW2gEaLyk',\n",
      "                         'resolutions': [{'height': 60,\n",
      "                                          'url': 'https://external-preview.redd.it/TquzkGWIjKDW3Hutj0AiJZzpKZrr9v_CTRVhUto8ZYA.png?width=108&crop=smart&format=pjpg&auto=webp&s=0ab675cc56dc983a1d5d217fdc911aa63a716d1b',\n",
      "                                          'width': 108},\n",
      "                                         {'height': 121,\n",
      "                                          'url': 'https://external-preview.redd.it/TquzkGWIjKDW3Hutj0AiJZzpKZrr9v_CTRVhUto8ZYA.png?width=216&crop=smart&format=pjpg&auto=webp&s=f4fb0d86820f9adc85e5e759f37b89a52ee64fc5',\n",
      "                                          'width': 216},\n",
      "                                         {'height': 180,\n",
      "                                          'url': 'https://external-preview.redd.it/TquzkGWIjKDW3Hutj0AiJZzpKZrr9v_CTRVhUto8ZYA.png?width=320&crop=smart&format=pjpg&auto=webp&s=006d0b15e6fba8395da755f34f9f60d202ee92d8',\n",
      "                                          'width': 320},\n",
      "                                         {'height': 360,\n",
      "                                          'url': 'https://external-preview.redd.it/TquzkGWIjKDW3Hutj0AiJZzpKZrr9v_CTRVhUto8ZYA.png?width=640&crop=smart&format=pjpg&auto=webp&s=7b6fa93ea5ad427f3ae0f39392e0959c6649770b',\n",
      "                                          'width': 640},\n",
      "                                         {'height': 540,\n",
      "                                          'url': 'https://external-preview.redd.it/TquzkGWIjKDW3Hutj0AiJZzpKZrr9v_CTRVhUto8ZYA.png?width=960&crop=smart&format=pjpg&auto=webp&s=8e58f4b974c55c55d8f47a840836bf7e754a6530',\n",
      "                                          'width': 960},\n",
      "                                         {'height': 607,\n",
      "                                          'url': 'https://external-preview.redd.it/TquzkGWIjKDW3Hutj0AiJZzpKZrr9v_CTRVhUto8ZYA.png?width=1080&crop=smart&format=pjpg&auto=webp&s=cbe0a5cf7d63fe76b63a0cbf284dd23670585e97',\n",
      "                                          'width': 1080}],\n",
      "                         'source': {'height': 720,\n",
      "                                    'url': 'https://external-preview.redd.it/TquzkGWIjKDW3Hutj0AiJZzpKZrr9v_CTRVhUto8ZYA.png?format=pjpg&auto=webp&s=1d02b17630dc018efd49ee4fd9ef6964622fd97c',\n",
      "                                    'width': 1280},\n",
      "                         'variants': {}}]},\n",
      " 'pwls': 6,\n",
      " 'quarantine': False,\n",
      " 'removal_reason': None,\n",
      " 'removed_by': None,\n",
      " 'removed_by_category': None,\n",
      " 'report_reasons': None,\n",
      " 'saved': False,\n",
      " 'score': 12920,\n",
      " 'secure_media': {'reddit_video': {'bitrate_kbps': 2400,\n",
      "                                   'dash_url': 'https://v.redd.it/g0cogcd0cey91/DASHPlaylist.mpd?a=1670735233%2CMmNhZjE5NjMyYzg5MWFmNmNmODcwOGRlMTc1MjNkMTdlZTM5YjJmZDQ4MzExNDNhMTM5ZDU1MmY3MzY4YzllMQ%3D%3D&v=1&f=sd',\n",
      "                                   'duration': 19,\n",
      "                                   'fallback_url': 'https://v.redd.it/g0cogcd0cey91/DASH_720.mp4?source=fallback',\n",
      "                                   'height': 720,\n",
      "                                   'hls_url': 'https://v.redd.it/g0cogcd0cey91/HLSPlaylist.m3u8?a=1670735233%2CNTM5OTViMWQxNjI5NWNiMDM2ZjVlMDFjYzY4MDNlNWI4MTZkYzNhZDU0NTFjYTlhMDRkMzA3MWQzNTRjNjAxZg%3D%3D&v=1&f=sd',\n",
      "                                   'is_gif': False,\n",
      "                                   'scrubber_media_url': 'https://v.redd.it/g0cogcd0cey91/DASH_96.mp4',\n",
      "                                   'transcoding_status': 'completed',\n",
      "                                   'width': 1280}},\n",
      " 'secure_media_embed': {},\n",
      " 'selftext': '',\n",
      " 'selftext_html': None,\n",
      " 'send_replies': True,\n",
      " 'spoiler': False,\n",
      " 'stickied': False,\n",
      " 'subreddit': Subreddit(display_name='nfl'),\n",
      " 'subreddit_id': 't5_2qmg3',\n",
      " 'subreddit_name_prefixed': 'r/nfl',\n",
      " 'subreddit_subscribers': 3025014,\n",
      " 'subreddit_type': 'public',\n",
      " 'suggested_sort': None,\n",
      " 'thumbnail': 'default',\n",
      " 'thumbnail_height': 78,\n",
      " 'thumbnail_width': 140,\n",
      " 'title': '[Highlight] Packers dont get the TD and Lions win.',\n",
      " 'top_awarded_type': None,\n",
      " 'total_awards_received': 7,\n",
      " 'treatment_tags': [],\n",
      " 'ups': 12920,\n",
      " 'upvote_ratio': 0.98,\n",
      " 'url': 'https://v.redd.it/g0cogcd0cey91',\n",
      " 'url_overridden_by_dest': 'https://v.redd.it/g0cogcd0cey91',\n",
      " 'user_reports': [],\n",
      " 'view_count': None,\n",
      " 'visited': False,\n",
      " 'whitelist_status': 'all_ads',\n",
      " 'wls': 6}\n"
     ]
    }
   ],
   "source": [
    "import pprint\n",
    "\n",
    "# assume you have a praw.Reddit instance bound to variable `reddit`\n",
    "submission = reddit.submission(\"yo2w2b\")\n",
    "print(submission.title)  # to make it non-lazy\n",
    "pprint.pprint(vars(submission))"
   ]
  },
  {
   "cell_type": "markdown",
   "metadata": {},
   "source": [
    "💽❓ Data Question:\n",
    "\n",
    "2. Is there any information available that might be a concern when it comes to Ethical Data?"
   ]
  },
  {
   "cell_type": "markdown",
   "metadata": {},
   "source": [
    "An author could make other posts that could tie their account to their identity. Author is usually blurred when other sites repost reddit content."
   ]
  },
  {
   "cell_type": "markdown",
   "metadata": {
    "heading_collapsed": true,
    "hidden": true
   },
   "source": [
    "#### 3. Comment Code"
   ]
  },
  {
   "cell_type": "markdown",
   "metadata": {
    "hidden": true
   },
   "source": [
    "Add comments to the code block below to describe what each line of the code does (Refer to [Obtain Comment Instances Section](https://praw.readthedocs.io/en/stable/getting_started/quick_start.html) when necessary). The code is adapted from [this tutorial](https://praw.readthedocs.io/en/stable/tutorials/comments.html)\n",
    "\n",
    "The purpose is \n",
    "1. to understand what the code is doing \n",
    "2. start to comment your code whenever it is not self-explantory if you have not (others will thank you, YOU will thank you later 😊) "
   ]
  },
  {
   "cell_type": "code",
   "execution_count": 34,
   "metadata": {
    "hidden": true,
    "scrolled": true
   },
   "outputs": [
    {
     "name": "stdout",
     "output_type": "stream",
     "text": [
      "CPU times: user 6.91 s, sys: 3.83 s, total: 10.7 s\n",
      "Wall time: 39.9 s\n"
     ]
    }
   ],
   "source": [
    "%%time\n",
    "from praw.models import MoreComments\n",
    "\n",
    "#creates list\n",
    "top_comments = []\n",
    "\n",
    "#loop that pulls top comments from top nfl subreddit posts\n",
    "for submission in subreddit.top(limit=10):\n",
    "    # outputs body of top level comments\n",
    "    for top_level_comment in submission.comments:\n",
    "        # ignores moreComments object.\n",
    "        if isinstance(top_level_comment, MoreComments):\n",
    "            continue\n",
    "        # append body of comments to top_comments list\n",
    "        top_comments.append(top_level_comment.body)"
   ]
  },
  {
   "cell_type": "markdown",
   "metadata": {
    "heading_collapsed": true,
    "hidden": true
   },
   "source": [
    "#### 4. Inspect Comments"
   ]
  },
  {
   "cell_type": "markdown",
   "metadata": {
    "hidden": true
   },
   "source": [
    "How many comments did you extract from the last step? Examine a few comments. "
   ]
  },
  {
   "cell_type": "code",
   "execution_count": 36,
   "metadata": {
    "hidden": true
   },
   "outputs": [
    {
     "data": {
      "text/plain": [
       "951"
      ]
     },
     "execution_count": 36,
     "metadata": {},
     "output_type": "execute_result"
    }
   ],
   "source": [
    "len(top_comments)"
   ]
  },
  {
   "cell_type": "code",
   "execution_count": 46,
   "metadata": {
    "hidden": true
   },
   "outputs": [
    {
     "data": {
      "text/plain": [
       "[\"So what you're telling me is Johnson made the HOF before Brady.\",\n",
       " 'Tom Brady has won 12.7% of all Super Bowls.',\n",
       " 'GOAT?',\n",
       " 'The greatest smartest move was to remove blount from the game !! I felt super happy after that move. Running game imrpoved by leaps and bounds. Made brady more comfortable throwing on 2nd and 3rd downs. \\n\\nRespect Belchick for the move _/\\\\_',\n",
       " 'Romo is a good announcer. i like that he explains why or why not a play should happen. he and Nantz are a good team. ']"
      ]
     },
     "execution_count": 46,
     "metadata": {},
     "output_type": "execute_result"
    }
   ],
   "source": [
    "import random\n",
    "\n",
    "[random.choice(top_comments) for i in range(5)]"
   ]
  },
  {
   "cell_type": "markdown",
   "metadata": {},
   "source": [
    "<details> <summary>Some of the comments from `r/machinelearning` subreddit are:</summary>\n",
    "\n",
    "    ['Awesome visualisation',\n",
    "    'Similar to a stack or connected neurons.',\n",
    "    'Will this Turing pass the Turing Test?']\n",
    "</details>"
   ]
  },
  {
   "cell_type": "markdown",
   "metadata": {},
   "source": [
    "💽❓ Data Question:\n",
    "\n",
    "3. After having a chance to review a few samples of 5 comments from the subreddit, what can you say about the data? \n",
    "\n",
    "HINT: Think about the \"cleanliness\" of the data, the content of the data, think about what you're trying to do - how does this data line up with your goal?"
   ]
  },
  {
   "cell_type": "markdown",
   "metadata": {},
   "source": [
    "I think this data establishes my goal of parsing through random top comments of nfl subreddit submissions. The content of the data can be explicit as they are uncensored user submissions."
   ]
  },
  {
   "cell_type": "markdown",
   "metadata": {
    "hidden": true
   },
   "source": [
    "#### 5. Extract Top Level Comment from Subreddit `TSLA`."
   ]
  },
  {
   "cell_type": "markdown",
   "metadata": {
    "hidden": true
   },
   "source": [
    "Write your code to extract top level comments from the top 10 topics of a time period, e.g., year, from subreddit `TSLA` and store them in a list `top_comments_tsla`.  "
   ]
  },
  {
   "cell_type": "code",
   "execution_count": 54,
   "metadata": {},
   "outputs": [],
   "source": [
    "subreddit = reddit.subreddit(\"TSLA\")\n"
   ]
  },
  {
   "cell_type": "code",
   "execution_count": 55,
   "metadata": {
    "hidden": true
   },
   "outputs": [
    {
     "name": "stdout",
     "output_type": "stream",
     "text": [
      "CPU times: user 320 ms, sys: 71 ms, total: 391 ms\n",
      "Wall time: 2.82 s\n"
     ]
    }
   ],
   "source": [
    "%%time\n",
    "from praw.models import MoreComments\n",
    "\n",
    "#creates list\n",
    "top_comments_tsla = []\n",
    "\n",
    "#loop that pulls top comments from top TSLA subreddit posts\n",
    "for submission in subreddit.top(limit=10, time_filter=\"year\"):\n",
    "    # outputs body of top level comments\n",
    "    for top_level_comment in submission.comments:\n",
    "        # ignores moreComments object.\n",
    "        if isinstance(top_level_comment, MoreComments):\n",
    "            continue\n",
    "        # append body of comments to top_comments list\n",
    "        top_comments_tsla.append(top_level_comment.body)"
   ]
  },
  {
   "cell_type": "code",
   "execution_count": 56,
   "metadata": {
    "hidden": true
   },
   "outputs": [
    {
     "data": {
      "text/plain": [
       "130"
      ]
     },
     "execution_count": 56,
     "metadata": {},
     "output_type": "execute_result"
    }
   ],
   "source": [
    "len(top_comments_tsla) "
   ]
  },
  {
   "cell_type": "code",
   "execution_count": 57,
   "metadata": {
    "hidden": true,
    "scrolled": true
   },
   "outputs": [
    {
     "data": {
      "text/plain": [
       "['Yes, it won’t take long to get to 2T. Humanoids, demand for Tesla cars, Semi’s, Tesla power (grid) and most of all managements optimism in the company to authorize another split …. Be patient',\n",
       " '10 from 500 days. Bought one more during 800 low last week. Wishing my tax return would come in before giga Austin opens up!',\n",
       " 'Proof of positions or removed as spam.\\n\\n1 hour given. Thanks!']"
      ]
     },
     "execution_count": 57,
     "metadata": {},
     "output_type": "execute_result"
    }
   ],
   "source": [
    "[random.choice(top_comments_tsla) for i in range(3)]"
   ]
  },
  {
   "cell_type": "markdown",
   "metadata": {},
   "source": [
    "<details>\n",
    "<summary>Some of the comments from `r/TSLA` subreddit:</summary>\n",
    "\n",
    "    ['I bought puts',\n",
    "    '100%',\n",
    "    'Yes. And I’m bag holding 1200 calls for Friday and am close to throwing myself out the window']\n",
    "</details>"
   ]
  },
  {
   "cell_type": "markdown",
   "metadata": {},
   "source": [
    "💽❓ Data Question:\n",
    "\n",
    "4. Now that you've had a chance to review another subreddits comments, do you see any differences in the kinds of comments either subreddit has - and how might this relate to bias?"
   ]
  },
  {
   "cell_type": "markdown",
   "metadata": {},
   "source": [
    "The NFL subreddit has much more passionate top comments than the TSLA subreddit. This may relate to outlier bias. Passionate comments from the TSLA subreddit may be located in the middle range of upvoted comments. By focusing on the top comment, we are not getting the overall sentiment of the community."
   ]
  },
  {
   "cell_type": "markdown",
   "metadata": {
    "heading_collapsed": true
   },
   "source": [
    "### Task III: Sentiment Analysis"
   ]
  },
  {
   "cell_type": "markdown",
   "metadata": {
    "hidden": true
   },
   "source": [
    "Let us analyze the sentiment of comments scraped from `r/TSLA` using a pre-trained HuggingFace model to make the inference. Take a [Quick tour](https://huggingface.co/docs/transformers/quicktour). "
   ]
  },
  {
   "cell_type": "markdown",
   "metadata": {
    "hidden": true
   },
   "source": [
    "#### 1. Import `pipeline`"
   ]
  },
  {
   "cell_type": "code",
   "execution_count": null,
   "metadata": {
    "hidden": true
   },
   "outputs": [],
   "source": [
    "from transformers import # YOUR CODE HERE"
   ]
  },
  {
   "cell_type": "markdown",
   "metadata": {
    "hidden": true
   },
   "source": [
    "#### 2. Create a Pipeline to Perform Task \"sentiment-analysis\""
   ]
  },
  {
   "cell_type": "code",
   "execution_count": null,
   "metadata": {
    "hidden": true
   },
   "outputs": [],
   "source": [
    "sentiment_model = # YOUR CODE HERE"
   ]
  },
  {
   "cell_type": "markdown",
   "metadata": {
    "hidden": true
   },
   "source": [
    "#### 3. Get one comment from list `top_comments_tsla` from Task II - 5."
   ]
  },
  {
   "cell_type": "code",
   "execution_count": null,
   "metadata": {
    "hidden": true
   },
   "outputs": [],
   "source": [
    "comment = random.choice(top_comments_tsla)"
   ]
  },
  {
   "cell_type": "code",
   "execution_count": null,
   "metadata": {
    "hidden": true
   },
   "outputs": [],
   "source": [
    "comment"
   ]
  },
  {
   "cell_type": "markdown",
   "metadata": {},
   "source": [
    "The example comment is: `'Bury Burry!!!!!'`. Print out what you get. For reproducibility, use the same comment in the next step; consider setting a seed."
   ]
  },
  {
   "cell_type": "markdown",
   "metadata": {
    "hidden": true
   },
   "source": [
    "#### 4. Make Inference!"
   ]
  },
  {
   "cell_type": "code",
   "execution_count": null,
   "metadata": {
    "hidden": true
   },
   "outputs": [],
   "source": [
    "sentiment = # YOUR CODE HERE "
   ]
  },
  {
   "cell_type": "markdown",
   "metadata": {
    "hidden": true
   },
   "source": [
    "What is the type of the output `sentiment`?"
   ]
  },
  {
   "cell_type": "markdown",
   "metadata": {
    "hidden": true
   },
   "source": [
    "```\n",
    "YOUR ANSWER HERE\n",
    "```"
   ]
  },
  {
   "cell_type": "code",
   "execution_count": null,
   "metadata": {
    "hidden": true,
    "scrolled": true
   },
   "outputs": [],
   "source": [
    "print(f'The comment: {comment}')\n",
    "print(f'Predicted Label is {sentiment[0][\"label\"]} and the score is {sentiment[0][\"score\"]:.3f}')"
   ]
  },
  {
   "cell_type": "markdown",
   "metadata": {},
   "source": [
    "For the example comment, the output is:\n",
    "\n",
    "    The comment: Bury Burry!!!!!\n",
    "    Predicted Label is NEGATIVE and the score is 0.989"
   ]
  },
  {
   "cell_type": "markdown",
   "metadata": {},
   "source": [
    "🖥️❓ Model Question:\n",
    "\n",
    "1. What does the score represent?"
   ]
  },
  {
   "cell_type": "markdown",
   "metadata": {},
   "source": [
    "### Task IV: Put All Together"
   ]
  },
  {
   "cell_type": "markdown",
   "metadata": {},
   "source": [
    "Let's pull all the piece together, create a simple script that does \n",
    "\n",
    "- get the subreddit\n",
    "- get comments from the top posts for given subreddit\n",
    "- run sentiment analysis "
   ]
  },
  {
   "cell_type": "markdown",
   "metadata": {},
   "source": [
    "#### Complete the Script"
   ]
  },
  {
   "cell_type": "markdown",
   "metadata": {},
   "source": [
    "Once you complete the code, running the following block writes the code into a new Python script and saves it as `top_tlsa_comment_sentiment.py` under the same directory with the notebook. "
   ]
  },
  {
   "cell_type": "code",
   "execution_count": null,
   "metadata": {
    "code_folding": []
   },
   "outputs": [],
   "source": [
    "%%writefile top_tlsa_comment_sentiment.py\n",
    "\n",
    "import secrets\n",
    "import random\n",
    "\n",
    "from typing import Dict, List\n",
    "\n",
    "from praw import Reddit\n",
    "from praw.models.reddit.subreddit import Subreddit\n",
    "from praw.models import MoreComments\n",
    "\n",
    "from transformers import pipeline\n",
    "\n",
    "\n",
    "def get_subreddit(display_name:str) -> Subreddit:\n",
    "    \"\"\"Get subreddit object from display name\n",
    "\n",
    "    Args:\n",
    "        display_name (str): [description]\n",
    "\n",
    "    Returns:\n",
    "        Subreddit: [description]\n",
    "    \"\"\"\n",
    "    reddit = Reddit(\n",
    "        client_id=secrets.REDDIT_API_CLIENT_ID,        \n",
    "        client_secret=secrets.REDDIT_API_CLIENT_SECRET,\n",
    "        user_agent=secrets.REDDIT_API_USER_AGENT\n",
    "        )\n",
    "    \n",
    "    subreddit = # YOUR CODE HERE\n",
    "    return subreddit\n",
    "\n",
    "def get_comments(subreddit:Subreddit, limit:int=3) -> List[str]:\n",
    "    \"\"\" Get comments from subreddit\n",
    "\n",
    "    Args:\n",
    "        subreddit (Subreddit): [description]\n",
    "        limit (int, optional): [description]. Defaults to 3.\n",
    "\n",
    "    Returns:\n",
    "        List[str]: List of comments\n",
    "    \"\"\"\n",
    "    top_comments = []\n",
    "    for submission in subreddit.top(limit=limit):\n",
    "        for top_level_comment in submission.comments:\n",
    "            if isinstance(top_level_comment, MoreComments):\n",
    "                continue\n",
    "            top_comments.append(top_level_comment.body)\n",
    "    return top_comments\n",
    "\n",
    "def run_sentiment_analysis(comment:str) -> Dict:\n",
    "    \"\"\"Run sentiment analysis on comment using default distilbert model\n",
    "    \n",
    "    Args:\n",
    "        comment (str): [description]\n",
    "        \n",
    "    Returns:\n",
    "        str: Sentiment analysis result\n",
    "    \"\"\"\n",
    "    sentiment_model = # YOUR CODE HERE\n",
    "    sentiment = sentiment_model(comment)\n",
    "    return sentiment[0]\n",
    "\n",
    "\n",
    "if __name__ == '__main__':\n",
    "    subreddit = # YOUR CODE HERE\n",
    "    comments = get_comments(subreddit)\n",
    "    comment = # YOUR CODE HERE\n",
    "    sentiment = run_sentiment_analysis(comment)\n",
    "    \n",
    "    print(f'The comment: {comment}')\n",
    "    print(f'Predicted Label is {sentiment[\"label\"]} and the score is {sentiment[\"score\"]:.3f}')"
   ]
  },
  {
   "cell_type": "markdown",
   "metadata": {},
   "source": [
    "Run the following block to see the output."
   ]
  },
  {
   "cell_type": "code",
   "execution_count": null,
   "metadata": {},
   "outputs": [],
   "source": [
    "!python top_tlsa_comment_sentiment.py"
   ]
  },
  {
   "cell_type": "markdown",
   "metadata": {},
   "source": [
    "<details><summary> Expected output:</summary>\n",
    "\n",
    "    No model was supplied, defaulted to distilbert-base-uncased-finetuned-sst-2-english (https://huggingface.co/distilbert-base-uncased-finetuned-sst-2-english)\n",
    "    The comment: When is DOGE flying\n",
    "    Predicted Label is POSITIVE and the score is 0.689\n",
    "</details>"
   ]
  },
  {
   "cell_type": "markdown",
   "metadata": {},
   "source": [
    "💽❓ Data Question:\n",
    "\n",
    "5. Is the subreddit active? About how many posts or threads per day? How could you find this information?"
   ]
  },
  {
   "cell_type": "markdown",
   "metadata": {},
   "source": []
  },
  {
   "cell_type": "markdown",
   "metadata": {},
   "source": [
    "💽❓ Data Question:\n",
    "\n",
    "6. Does there seem to be a large distribution of posters or a smaller concentration of posters who are very active? What kind of impact might this have on the data?"
   ]
  },
  {
   "cell_type": "markdown",
   "metadata": {},
   "source": []
  }
 ],
 "metadata": {
  "kernelspec": {
   "display_name": "Python 3 (ipykernel)",
   "language": "python",
   "name": "python3"
  },
  "language_info": {
   "codemirror_mode": {
    "name": "ipython",
    "version": 3
   },
   "file_extension": ".py",
   "mimetype": "text/x-python",
   "name": "python",
   "nbconvert_exporter": "python",
   "pygments_lexer": "ipython3",
   "version": "3.8.13"
  },
  "toc": {
   "base_numbering": 1,
   "nav_menu": {},
   "number_sections": true,
   "sideBar": true,
   "skip_h1_title": false,
   "title_cell": "Table of Contents",
   "title_sidebar": "Contents",
   "toc_cell": false,
   "toc_position": {},
   "toc_section_display": true,
   "toc_window_display": true
  },
  "vscode": {
   "interpreter": {
    "hash": "c57794392b841cffd8686d5c4548e4e2ec78521f49300d60954d1380f1b4bd1f"
   }
  }
 },
 "nbformat": 4,
 "nbformat_minor": 2
}
